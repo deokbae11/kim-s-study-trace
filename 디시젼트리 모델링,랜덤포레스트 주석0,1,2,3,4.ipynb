{
 "cells": [
  {
   "cell_type": "code",
   "execution_count": 64,
   "id": "daf23a00",
   "metadata": {
    "ExecuteTime": {
     "end_time": "2022-08-16T05:26:44.583147Z",
     "start_time": "2022-08-16T05:26:44.572010Z"
    }
   },
   "outputs": [],
   "source": [
    "import numpy as np\n",
    "import pandas as pd\n",
    "import seaborn as sns\n",
    "import matplotlib.pyplot as plt\n",
    "plt.rcParams['font.family'] ='Malgun Gothic'\n",
    "\n",
    "plt.rcParams['axes.unicode_minus'] =False"
   ]
  },
  {
   "cell_type": "code",
   "execution_count": 65,
   "id": "76e38d47",
   "metadata": {
    "ExecuteTime": {
     "end_time": "2022-08-16T05:26:44.614767Z",
     "start_time": "2022-08-16T05:26:44.585285Z"
    }
   },
   "outputs": [],
   "source": [
    "data_set=pd.read_csv(\"인적사항 인코딩.csv\",encoding='cp949')"
   ]
  },
  {
   "cell_type": "markdown",
   "id": "ab5a1496",
   "metadata": {},
   "source": [
    "# 다중공산성 확인"
   ]
  },
  {
   "cell_type": "code",
   "execution_count": 66,
   "id": "97576b43",
   "metadata": {
    "ExecuteTime": {
     "end_time": "2022-08-16T05:26:44.630783Z",
     "start_time": "2022-08-16T05:26:44.615763Z"
    },
    "scrolled": true
   },
   "outputs": [
    {
     "data": {
      "text/html": [
       "<div>\n",
       "<style scoped>\n",
       "    .dataframe tbody tr th:only-of-type {\n",
       "        vertical-align: middle;\n",
       "    }\n",
       "\n",
       "    .dataframe tbody tr th {\n",
       "        vertical-align: top;\n",
       "    }\n",
       "\n",
       "    .dataframe thead th {\n",
       "        text-align: right;\n",
       "    }\n",
       "</style>\n",
       "<table border=\"1\" class=\"dataframe\">\n",
       "  <thead>\n",
       "    <tr style=\"text-align: right;\">\n",
       "      <th></th>\n",
       "      <th>Unnamed: 0</th>\n",
       "      <th>요일</th>\n",
       "      <th>피해운전자 성별</th>\n",
       "      <th>연령대</th>\n",
       "      <th>주간야간</th>\n",
       "      <th>가을</th>\n",
       "      <th>겨울</th>\n",
       "      <th>봄</th>\n",
       "      <th>여름</th>\n",
       "      <th>교차로</th>\n",
       "      <th>기타</th>\n",
       "      <th>단일로</th>\n",
       "      <th>미분류</th>\n",
       "      <th>주차장</th>\n",
       "      <th>기타차량</th>\n",
       "      <th>승용</th>\n",
       "      <th>승합</th>\n",
       "      <th>이륜</th>\n",
       "      <th>특수차</th>\n",
       "      <th>피해운전자 상해정도</th>\n",
       "    </tr>\n",
       "  </thead>\n",
       "  <tbody>\n",
       "    <tr>\n",
       "      <th>0</th>\n",
       "      <td>0</td>\n",
       "      <td>0</td>\n",
       "      <td>0.0</td>\n",
       "      <td>50</td>\n",
       "      <td>1</td>\n",
       "      <td>0</td>\n",
       "      <td>1</td>\n",
       "      <td>0</td>\n",
       "      <td>0</td>\n",
       "      <td>0</td>\n",
       "      <td>0</td>\n",
       "      <td>1</td>\n",
       "      <td>0</td>\n",
       "      <td>0</td>\n",
       "      <td>0</td>\n",
       "      <td>1</td>\n",
       "      <td>0</td>\n",
       "      <td>0</td>\n",
       "      <td>0</td>\n",
       "      <td>경상</td>\n",
       "    </tr>\n",
       "    <tr>\n",
       "      <th>1</th>\n",
       "      <td>1</td>\n",
       "      <td>0</td>\n",
       "      <td>0.0</td>\n",
       "      <td>70</td>\n",
       "      <td>1</td>\n",
       "      <td>0</td>\n",
       "      <td>1</td>\n",
       "      <td>0</td>\n",
       "      <td>0</td>\n",
       "      <td>0</td>\n",
       "      <td>0</td>\n",
       "      <td>1</td>\n",
       "      <td>0</td>\n",
       "      <td>0</td>\n",
       "      <td>0</td>\n",
       "      <td>1</td>\n",
       "      <td>0</td>\n",
       "      <td>0</td>\n",
       "      <td>0</td>\n",
       "      <td>사망</td>\n",
       "    </tr>\n",
       "    <tr>\n",
       "      <th>2</th>\n",
       "      <td>2</td>\n",
       "      <td>0</td>\n",
       "      <td>0.0</td>\n",
       "      <td>50</td>\n",
       "      <td>1</td>\n",
       "      <td>0</td>\n",
       "      <td>0</td>\n",
       "      <td>1</td>\n",
       "      <td>0</td>\n",
       "      <td>0</td>\n",
       "      <td>0</td>\n",
       "      <td>1</td>\n",
       "      <td>0</td>\n",
       "      <td>0</td>\n",
       "      <td>0</td>\n",
       "      <td>1</td>\n",
       "      <td>0</td>\n",
       "      <td>0</td>\n",
       "      <td>0</td>\n",
       "      <td>중상</td>\n",
       "    </tr>\n",
       "    <tr>\n",
       "      <th>3</th>\n",
       "      <td>3</td>\n",
       "      <td>0</td>\n",
       "      <td>0.0</td>\n",
       "      <td>60</td>\n",
       "      <td>0</td>\n",
       "      <td>0</td>\n",
       "      <td>0</td>\n",
       "      <td>1</td>\n",
       "      <td>0</td>\n",
       "      <td>0</td>\n",
       "      <td>0</td>\n",
       "      <td>1</td>\n",
       "      <td>0</td>\n",
       "      <td>0</td>\n",
       "      <td>0</td>\n",
       "      <td>1</td>\n",
       "      <td>0</td>\n",
       "      <td>0</td>\n",
       "      <td>0</td>\n",
       "      <td>중상</td>\n",
       "    </tr>\n",
       "    <tr>\n",
       "      <th>4</th>\n",
       "      <td>4</td>\n",
       "      <td>0</td>\n",
       "      <td>0.0</td>\n",
       "      <td>80</td>\n",
       "      <td>0</td>\n",
       "      <td>0</td>\n",
       "      <td>0</td>\n",
       "      <td>1</td>\n",
       "      <td>0</td>\n",
       "      <td>0</td>\n",
       "      <td>0</td>\n",
       "      <td>1</td>\n",
       "      <td>0</td>\n",
       "      <td>0</td>\n",
       "      <td>0</td>\n",
       "      <td>0</td>\n",
       "      <td>0</td>\n",
       "      <td>1</td>\n",
       "      <td>0</td>\n",
       "      <td>경상</td>\n",
       "    </tr>\n",
       "    <tr>\n",
       "      <th>...</th>\n",
       "      <td>...</td>\n",
       "      <td>...</td>\n",
       "      <td>...</td>\n",
       "      <td>...</td>\n",
       "      <td>...</td>\n",
       "      <td>...</td>\n",
       "      <td>...</td>\n",
       "      <td>...</td>\n",
       "      <td>...</td>\n",
       "      <td>...</td>\n",
       "      <td>...</td>\n",
       "      <td>...</td>\n",
       "      <td>...</td>\n",
       "      <td>...</td>\n",
       "      <td>...</td>\n",
       "      <td>...</td>\n",
       "      <td>...</td>\n",
       "      <td>...</td>\n",
       "      <td>...</td>\n",
       "      <td>...</td>\n",
       "    </tr>\n",
       "    <tr>\n",
       "      <th>9125</th>\n",
       "      <td>9125</td>\n",
       "      <td>0</td>\n",
       "      <td>1.0</td>\n",
       "      <td>70</td>\n",
       "      <td>0</td>\n",
       "      <td>1</td>\n",
       "      <td>0</td>\n",
       "      <td>0</td>\n",
       "      <td>0</td>\n",
       "      <td>0</td>\n",
       "      <td>0</td>\n",
       "      <td>1</td>\n",
       "      <td>0</td>\n",
       "      <td>0</td>\n",
       "      <td>0</td>\n",
       "      <td>0</td>\n",
       "      <td>1</td>\n",
       "      <td>0</td>\n",
       "      <td>0</td>\n",
       "      <td>중상</td>\n",
       "    </tr>\n",
       "    <tr>\n",
       "      <th>9126</th>\n",
       "      <td>9126</td>\n",
       "      <td>0</td>\n",
       "      <td>1.0</td>\n",
       "      <td>50</td>\n",
       "      <td>1</td>\n",
       "      <td>1</td>\n",
       "      <td>0</td>\n",
       "      <td>0</td>\n",
       "      <td>0</td>\n",
       "      <td>0</td>\n",
       "      <td>0</td>\n",
       "      <td>1</td>\n",
       "      <td>0</td>\n",
       "      <td>0</td>\n",
       "      <td>0</td>\n",
       "      <td>0</td>\n",
       "      <td>0</td>\n",
       "      <td>1</td>\n",
       "      <td>0</td>\n",
       "      <td>중상</td>\n",
       "    </tr>\n",
       "    <tr>\n",
       "      <th>9127</th>\n",
       "      <td>9127</td>\n",
       "      <td>1</td>\n",
       "      <td>0.0</td>\n",
       "      <td>30</td>\n",
       "      <td>1</td>\n",
       "      <td>1</td>\n",
       "      <td>0</td>\n",
       "      <td>0</td>\n",
       "      <td>0</td>\n",
       "      <td>1</td>\n",
       "      <td>0</td>\n",
       "      <td>0</td>\n",
       "      <td>0</td>\n",
       "      <td>0</td>\n",
       "      <td>0</td>\n",
       "      <td>1</td>\n",
       "      <td>0</td>\n",
       "      <td>0</td>\n",
       "      <td>0</td>\n",
       "      <td>경상</td>\n",
       "    </tr>\n",
       "    <tr>\n",
       "      <th>9128</th>\n",
       "      <td>9128</td>\n",
       "      <td>0</td>\n",
       "      <td>0.0</td>\n",
       "      <td>50</td>\n",
       "      <td>1</td>\n",
       "      <td>1</td>\n",
       "      <td>0</td>\n",
       "      <td>0</td>\n",
       "      <td>0</td>\n",
       "      <td>1</td>\n",
       "      <td>0</td>\n",
       "      <td>0</td>\n",
       "      <td>0</td>\n",
       "      <td>0</td>\n",
       "      <td>0</td>\n",
       "      <td>1</td>\n",
       "      <td>0</td>\n",
       "      <td>0</td>\n",
       "      <td>0</td>\n",
       "      <td>경상</td>\n",
       "    </tr>\n",
       "    <tr>\n",
       "      <th>9129</th>\n",
       "      <td>9129</td>\n",
       "      <td>0</td>\n",
       "      <td>0.0</td>\n",
       "      <td>50</td>\n",
       "      <td>1</td>\n",
       "      <td>0</td>\n",
       "      <td>1</td>\n",
       "      <td>0</td>\n",
       "      <td>0</td>\n",
       "      <td>0</td>\n",
       "      <td>0</td>\n",
       "      <td>1</td>\n",
       "      <td>0</td>\n",
       "      <td>0</td>\n",
       "      <td>0</td>\n",
       "      <td>0</td>\n",
       "      <td>0</td>\n",
       "      <td>1</td>\n",
       "      <td>0</td>\n",
       "      <td>경상</td>\n",
       "    </tr>\n",
       "  </tbody>\n",
       "</table>\n",
       "<p>9130 rows × 20 columns</p>\n",
       "</div>"
      ],
      "text/plain": [
       "      Unnamed: 0  요일  피해운전자 성별  연령대  주간야간  가을  겨울  봄  여름  교차로   기타   단일로   \\\n",
       "0              0   0       0.0   50     1   0   1  0   0     0    0     1   \n",
       "1              1   0       0.0   70     1   0   1  0   0     0    0     1   \n",
       "2              2   0       0.0   50     1   0   0  1   0     0    0     1   \n",
       "3              3   0       0.0   60     0   0   0  1   0     0    0     1   \n",
       "4              4   0       0.0   80     0   0   0  1   0     0    0     1   \n",
       "...          ...  ..       ...  ...   ...  ..  .. ..  ..   ...  ...   ...   \n",
       "9125        9125   0       1.0   70     0   1   0  0   0     0    0     1   \n",
       "9126        9126   0       1.0   50     1   1   0  0   0     0    0     1   \n",
       "9127        9127   1       0.0   30     1   1   0  0   0     1    0     0   \n",
       "9128        9128   0       0.0   50     1   1   0  0   0     1    0     0   \n",
       "9129        9129   0       0.0   50     1   0   1  0   0     0    0     1   \n",
       "\n",
       "      미분류   주차장   기타차량  승용  승합  이륜  특수차 피해운전자 상해정도  \n",
       "0        0     0     0   1   0   0    0         경상  \n",
       "1        0     0     0   1   0   0    0         사망  \n",
       "2        0     0     0   1   0   0    0         중상  \n",
       "3        0     0     0   1   0   0    0         중상  \n",
       "4        0     0     0   0   0   1    0         경상  \n",
       "...    ...   ...   ...  ..  ..  ..  ...        ...  \n",
       "9125     0     0     0   0   1   0    0         중상  \n",
       "9126     0     0     0   0   0   1    0         중상  \n",
       "9127     0     0     0   1   0   0    0         경상  \n",
       "9128     0     0     0   1   0   0    0         경상  \n",
       "9129     0     0     0   0   0   1    0         경상  \n",
       "\n",
       "[9130 rows x 20 columns]"
      ]
     },
     "execution_count": 66,
     "metadata": {},
     "output_type": "execute_result"
    }
   ],
   "source": [
    "data_set"
   ]
  },
  {
   "cell_type": "code",
   "execution_count": 67,
   "id": "8018817b",
   "metadata": {
    "ExecuteTime": {
     "end_time": "2022-08-16T05:26:44.646671Z",
     "start_time": "2022-08-16T05:26:44.631709Z"
    }
   },
   "outputs": [],
   "source": [
    "data_set=data_set.drop('Unnamed: 0',axis=1)\n",
    "#불필요한 데이터 셋 제거"
   ]
  },
  {
   "cell_type": "code",
   "execution_count": 68,
   "id": "3e8ee9e7",
   "metadata": {
    "ExecuteTime": {
     "end_time": "2022-08-16T05:26:44.662606Z",
     "start_time": "2022-08-16T05:26:44.647656Z"
    }
   },
   "outputs": [
    {
     "data": {
      "text/html": [
       "<div>\n",
       "<style scoped>\n",
       "    .dataframe tbody tr th:only-of-type {\n",
       "        vertical-align: middle;\n",
       "    }\n",
       "\n",
       "    .dataframe tbody tr th {\n",
       "        vertical-align: top;\n",
       "    }\n",
       "\n",
       "    .dataframe thead th {\n",
       "        text-align: right;\n",
       "    }\n",
       "</style>\n",
       "<table border=\"1\" class=\"dataframe\">\n",
       "  <thead>\n",
       "    <tr style=\"text-align: right;\">\n",
       "      <th></th>\n",
       "      <th>요일</th>\n",
       "      <th>피해운전자 성별</th>\n",
       "      <th>연령대</th>\n",
       "      <th>주간야간</th>\n",
       "      <th>가을</th>\n",
       "      <th>겨울</th>\n",
       "      <th>봄</th>\n",
       "      <th>여름</th>\n",
       "      <th>교차로</th>\n",
       "      <th>기타</th>\n",
       "      <th>단일로</th>\n",
       "      <th>미분류</th>\n",
       "      <th>주차장</th>\n",
       "      <th>기타차량</th>\n",
       "      <th>승용</th>\n",
       "      <th>승합</th>\n",
       "      <th>이륜</th>\n",
       "      <th>특수차</th>\n",
       "      <th>피해운전자 상해정도</th>\n",
       "    </tr>\n",
       "  </thead>\n",
       "  <tbody>\n",
       "    <tr>\n",
       "      <th>0</th>\n",
       "      <td>0</td>\n",
       "      <td>0.0</td>\n",
       "      <td>50</td>\n",
       "      <td>1</td>\n",
       "      <td>0</td>\n",
       "      <td>1</td>\n",
       "      <td>0</td>\n",
       "      <td>0</td>\n",
       "      <td>0</td>\n",
       "      <td>0</td>\n",
       "      <td>1</td>\n",
       "      <td>0</td>\n",
       "      <td>0</td>\n",
       "      <td>0</td>\n",
       "      <td>1</td>\n",
       "      <td>0</td>\n",
       "      <td>0</td>\n",
       "      <td>0</td>\n",
       "      <td>경상</td>\n",
       "    </tr>\n",
       "    <tr>\n",
       "      <th>1</th>\n",
       "      <td>0</td>\n",
       "      <td>0.0</td>\n",
       "      <td>70</td>\n",
       "      <td>1</td>\n",
       "      <td>0</td>\n",
       "      <td>1</td>\n",
       "      <td>0</td>\n",
       "      <td>0</td>\n",
       "      <td>0</td>\n",
       "      <td>0</td>\n",
       "      <td>1</td>\n",
       "      <td>0</td>\n",
       "      <td>0</td>\n",
       "      <td>0</td>\n",
       "      <td>1</td>\n",
       "      <td>0</td>\n",
       "      <td>0</td>\n",
       "      <td>0</td>\n",
       "      <td>사망</td>\n",
       "    </tr>\n",
       "    <tr>\n",
       "      <th>2</th>\n",
       "      <td>0</td>\n",
       "      <td>0.0</td>\n",
       "      <td>50</td>\n",
       "      <td>1</td>\n",
       "      <td>0</td>\n",
       "      <td>0</td>\n",
       "      <td>1</td>\n",
       "      <td>0</td>\n",
       "      <td>0</td>\n",
       "      <td>0</td>\n",
       "      <td>1</td>\n",
       "      <td>0</td>\n",
       "      <td>0</td>\n",
       "      <td>0</td>\n",
       "      <td>1</td>\n",
       "      <td>0</td>\n",
       "      <td>0</td>\n",
       "      <td>0</td>\n",
       "      <td>중상</td>\n",
       "    </tr>\n",
       "    <tr>\n",
       "      <th>3</th>\n",
       "      <td>0</td>\n",
       "      <td>0.0</td>\n",
       "      <td>60</td>\n",
       "      <td>0</td>\n",
       "      <td>0</td>\n",
       "      <td>0</td>\n",
       "      <td>1</td>\n",
       "      <td>0</td>\n",
       "      <td>0</td>\n",
       "      <td>0</td>\n",
       "      <td>1</td>\n",
       "      <td>0</td>\n",
       "      <td>0</td>\n",
       "      <td>0</td>\n",
       "      <td>1</td>\n",
       "      <td>0</td>\n",
       "      <td>0</td>\n",
       "      <td>0</td>\n",
       "      <td>중상</td>\n",
       "    </tr>\n",
       "    <tr>\n",
       "      <th>4</th>\n",
       "      <td>0</td>\n",
       "      <td>0.0</td>\n",
       "      <td>80</td>\n",
       "      <td>0</td>\n",
       "      <td>0</td>\n",
       "      <td>0</td>\n",
       "      <td>1</td>\n",
       "      <td>0</td>\n",
       "      <td>0</td>\n",
       "      <td>0</td>\n",
       "      <td>1</td>\n",
       "      <td>0</td>\n",
       "      <td>0</td>\n",
       "      <td>0</td>\n",
       "      <td>0</td>\n",
       "      <td>0</td>\n",
       "      <td>1</td>\n",
       "      <td>0</td>\n",
       "      <td>경상</td>\n",
       "    </tr>\n",
       "  </tbody>\n",
       "</table>\n",
       "</div>"
      ],
      "text/plain": [
       "   요일  피해운전자 성별  연령대  주간야간  가을  겨울  봄  여름  교차로   기타   단일로   미분류   주차장   기타차량  \\\n",
       "0   0       0.0   50     1   0   1  0   0     0    0     1     0     0     0   \n",
       "1   0       0.0   70     1   0   1  0   0     0    0     1     0     0     0   \n",
       "2   0       0.0   50     1   0   0  1   0     0    0     1     0     0     0   \n",
       "3   0       0.0   60     0   0   0  1   0     0    0     1     0     0     0   \n",
       "4   0       0.0   80     0   0   0  1   0     0    0     1     0     0     0   \n",
       "\n",
       "   승용  승합  이륜  특수차 피해운전자 상해정도  \n",
       "0   1   0   0    0         경상  \n",
       "1   1   0   0    0         사망  \n",
       "2   1   0   0    0         중상  \n",
       "3   1   0   0    0         중상  \n",
       "4   0   0   1    0         경상  "
      ]
     },
     "execution_count": 68,
     "metadata": {},
     "output_type": "execute_result"
    }
   ],
   "source": [
    "data_set.head(5)"
   ]
  },
  {
   "cell_type": "code",
   "execution_count": 69,
   "id": "078a7114",
   "metadata": {
    "ExecuteTime": {
     "end_time": "2022-08-16T05:26:44.678553Z",
     "start_time": "2022-08-16T05:26:44.663615Z"
    },
    "scrolled": true
   },
   "outputs": [
    {
     "name": "stdout",
     "output_type": "stream",
     "text": [
      "<class 'pandas.core.frame.DataFrame'>\n",
      "RangeIndex: 9130 entries, 0 to 9129\n",
      "Data columns (total 19 columns):\n",
      " #   Column      Non-Null Count  Dtype  \n",
      "---  ------      --------------  -----  \n",
      " 0   요일          9130 non-null   int64  \n",
      " 1   피해운전자 성별    9130 non-null   float64\n",
      " 2   연령대         9130 non-null   int64  \n",
      " 3   주간야간        9130 non-null   int64  \n",
      " 4   가을          9130 non-null   int64  \n",
      " 5   겨울          9130 non-null   int64  \n",
      " 6   봄           9130 non-null   int64  \n",
      " 7   여름          9130 non-null   int64  \n",
      " 8   교차로         9130 non-null   int64  \n",
      " 9   기타          9130 non-null   int64  \n",
      " 10  단일로         9130 non-null   int64  \n",
      " 11  미분류         9130 non-null   int64  \n",
      " 12  주차장         9130 non-null   int64  \n",
      " 13  기타차량        9130 non-null   int64  \n",
      " 14  승용          9130 non-null   int64  \n",
      " 15  승합          9130 non-null   int64  \n",
      " 16  이륜          9130 non-null   int64  \n",
      " 17  특수차         9130 non-null   int64  \n",
      " 18  피해운전자 상해정도  9130 non-null   object \n",
      "dtypes: float64(1), int64(17), object(1)\n",
      "memory usage: 1.3+ MB\n"
     ]
    }
   ],
   "source": [
    "data_set.info()\n",
    "#데이터의 컬럼 정보확인"
   ]
  },
  {
   "cell_type": "code",
   "execution_count": 70,
   "id": "a7b7b70b",
   "metadata": {
    "ExecuteTime": {
     "end_time": "2022-08-16T05:26:44.693511Z",
     "start_time": "2022-08-16T05:26:44.679550Z"
    }
   },
   "outputs": [
    {
     "data": {
      "text/plain": [
       "중상      5206\n",
       "경상      3000\n",
       "사망       482\n",
       "부상신고     416\n",
       "상해없음      26\n",
       "Name: 피해운전자 상해정도, dtype: int64"
      ]
     },
     "execution_count": 70,
     "metadata": {},
     "output_type": "execute_result"
    }
   ],
   "source": [
    "data_set['피해운전자 상해정도'].value_counts()\n",
    "#피해 상해정도 확인"
   ]
  },
  {
   "cell_type": "code",
   "execution_count": 71,
   "id": "61df608c",
   "metadata": {
    "ExecuteTime": {
     "end_time": "2022-08-16T05:26:44.709457Z",
     "start_time": "2022-08-16T05:26:44.694499Z"
    }
   },
   "outputs": [],
   "source": [
    "data_set['피해운전자 상해정도']=data_set['피해운전자 상해정도'].map({'상해없음':0,'부상신고':1,'경상':2,'중상':3,'사망':4})\n",
    "#데이터 라벨 인코딩"
   ]
  },
  {
   "cell_type": "code",
   "execution_count": 72,
   "id": "4213a35d",
   "metadata": {
    "ExecuteTime": {
     "end_time": "2022-08-16T05:26:44.725405Z",
     "start_time": "2022-08-16T05:26:44.711455Z"
    }
   },
   "outputs": [
    {
     "data": {
      "text/html": [
       "<div>\n",
       "<style scoped>\n",
       "    .dataframe tbody tr th:only-of-type {\n",
       "        vertical-align: middle;\n",
       "    }\n",
       "\n",
       "    .dataframe tbody tr th {\n",
       "        vertical-align: top;\n",
       "    }\n",
       "\n",
       "    .dataframe thead th {\n",
       "        text-align: right;\n",
       "    }\n",
       "</style>\n",
       "<table border=\"1\" class=\"dataframe\">\n",
       "  <thead>\n",
       "    <tr style=\"text-align: right;\">\n",
       "      <th></th>\n",
       "      <th>요일</th>\n",
       "      <th>피해운전자 성별</th>\n",
       "      <th>연령대</th>\n",
       "      <th>주간야간</th>\n",
       "      <th>가을</th>\n",
       "      <th>겨울</th>\n",
       "      <th>봄</th>\n",
       "      <th>여름</th>\n",
       "      <th>교차로</th>\n",
       "      <th>기타</th>\n",
       "      <th>단일로</th>\n",
       "      <th>미분류</th>\n",
       "      <th>주차장</th>\n",
       "      <th>기타차량</th>\n",
       "      <th>승용</th>\n",
       "      <th>승합</th>\n",
       "      <th>이륜</th>\n",
       "      <th>특수차</th>\n",
       "      <th>피해운전자 상해정도</th>\n",
       "    </tr>\n",
       "  </thead>\n",
       "  <tbody>\n",
       "    <tr>\n",
       "      <th>0</th>\n",
       "      <td>0</td>\n",
       "      <td>0.0</td>\n",
       "      <td>50</td>\n",
       "      <td>1</td>\n",
       "      <td>0</td>\n",
       "      <td>1</td>\n",
       "      <td>0</td>\n",
       "      <td>0</td>\n",
       "      <td>0</td>\n",
       "      <td>0</td>\n",
       "      <td>1</td>\n",
       "      <td>0</td>\n",
       "      <td>0</td>\n",
       "      <td>0</td>\n",
       "      <td>1</td>\n",
       "      <td>0</td>\n",
       "      <td>0</td>\n",
       "      <td>0</td>\n",
       "      <td>2</td>\n",
       "    </tr>\n",
       "    <tr>\n",
       "      <th>1</th>\n",
       "      <td>0</td>\n",
       "      <td>0.0</td>\n",
       "      <td>70</td>\n",
       "      <td>1</td>\n",
       "      <td>0</td>\n",
       "      <td>1</td>\n",
       "      <td>0</td>\n",
       "      <td>0</td>\n",
       "      <td>0</td>\n",
       "      <td>0</td>\n",
       "      <td>1</td>\n",
       "      <td>0</td>\n",
       "      <td>0</td>\n",
       "      <td>0</td>\n",
       "      <td>1</td>\n",
       "      <td>0</td>\n",
       "      <td>0</td>\n",
       "      <td>0</td>\n",
       "      <td>4</td>\n",
       "    </tr>\n",
       "    <tr>\n",
       "      <th>2</th>\n",
       "      <td>0</td>\n",
       "      <td>0.0</td>\n",
       "      <td>50</td>\n",
       "      <td>1</td>\n",
       "      <td>0</td>\n",
       "      <td>0</td>\n",
       "      <td>1</td>\n",
       "      <td>0</td>\n",
       "      <td>0</td>\n",
       "      <td>0</td>\n",
       "      <td>1</td>\n",
       "      <td>0</td>\n",
       "      <td>0</td>\n",
       "      <td>0</td>\n",
       "      <td>1</td>\n",
       "      <td>0</td>\n",
       "      <td>0</td>\n",
       "      <td>0</td>\n",
       "      <td>3</td>\n",
       "    </tr>\n",
       "    <tr>\n",
       "      <th>3</th>\n",
       "      <td>0</td>\n",
       "      <td>0.0</td>\n",
       "      <td>60</td>\n",
       "      <td>0</td>\n",
       "      <td>0</td>\n",
       "      <td>0</td>\n",
       "      <td>1</td>\n",
       "      <td>0</td>\n",
       "      <td>0</td>\n",
       "      <td>0</td>\n",
       "      <td>1</td>\n",
       "      <td>0</td>\n",
       "      <td>0</td>\n",
       "      <td>0</td>\n",
       "      <td>1</td>\n",
       "      <td>0</td>\n",
       "      <td>0</td>\n",
       "      <td>0</td>\n",
       "      <td>3</td>\n",
       "    </tr>\n",
       "    <tr>\n",
       "      <th>4</th>\n",
       "      <td>0</td>\n",
       "      <td>0.0</td>\n",
       "      <td>80</td>\n",
       "      <td>0</td>\n",
       "      <td>0</td>\n",
       "      <td>0</td>\n",
       "      <td>1</td>\n",
       "      <td>0</td>\n",
       "      <td>0</td>\n",
       "      <td>0</td>\n",
       "      <td>1</td>\n",
       "      <td>0</td>\n",
       "      <td>0</td>\n",
       "      <td>0</td>\n",
       "      <td>0</td>\n",
       "      <td>0</td>\n",
       "      <td>1</td>\n",
       "      <td>0</td>\n",
       "      <td>2</td>\n",
       "    </tr>\n",
       "    <tr>\n",
       "      <th>...</th>\n",
       "      <td>...</td>\n",
       "      <td>...</td>\n",
       "      <td>...</td>\n",
       "      <td>...</td>\n",
       "      <td>...</td>\n",
       "      <td>...</td>\n",
       "      <td>...</td>\n",
       "      <td>...</td>\n",
       "      <td>...</td>\n",
       "      <td>...</td>\n",
       "      <td>...</td>\n",
       "      <td>...</td>\n",
       "      <td>...</td>\n",
       "      <td>...</td>\n",
       "      <td>...</td>\n",
       "      <td>...</td>\n",
       "      <td>...</td>\n",
       "      <td>...</td>\n",
       "      <td>...</td>\n",
       "    </tr>\n",
       "    <tr>\n",
       "      <th>9125</th>\n",
       "      <td>0</td>\n",
       "      <td>1.0</td>\n",
       "      <td>70</td>\n",
       "      <td>0</td>\n",
       "      <td>1</td>\n",
       "      <td>0</td>\n",
       "      <td>0</td>\n",
       "      <td>0</td>\n",
       "      <td>0</td>\n",
       "      <td>0</td>\n",
       "      <td>1</td>\n",
       "      <td>0</td>\n",
       "      <td>0</td>\n",
       "      <td>0</td>\n",
       "      <td>0</td>\n",
       "      <td>1</td>\n",
       "      <td>0</td>\n",
       "      <td>0</td>\n",
       "      <td>3</td>\n",
       "    </tr>\n",
       "    <tr>\n",
       "      <th>9126</th>\n",
       "      <td>0</td>\n",
       "      <td>1.0</td>\n",
       "      <td>50</td>\n",
       "      <td>1</td>\n",
       "      <td>1</td>\n",
       "      <td>0</td>\n",
       "      <td>0</td>\n",
       "      <td>0</td>\n",
       "      <td>0</td>\n",
       "      <td>0</td>\n",
       "      <td>1</td>\n",
       "      <td>0</td>\n",
       "      <td>0</td>\n",
       "      <td>0</td>\n",
       "      <td>0</td>\n",
       "      <td>0</td>\n",
       "      <td>1</td>\n",
       "      <td>0</td>\n",
       "      <td>3</td>\n",
       "    </tr>\n",
       "    <tr>\n",
       "      <th>9127</th>\n",
       "      <td>1</td>\n",
       "      <td>0.0</td>\n",
       "      <td>30</td>\n",
       "      <td>1</td>\n",
       "      <td>1</td>\n",
       "      <td>0</td>\n",
       "      <td>0</td>\n",
       "      <td>0</td>\n",
       "      <td>1</td>\n",
       "      <td>0</td>\n",
       "      <td>0</td>\n",
       "      <td>0</td>\n",
       "      <td>0</td>\n",
       "      <td>0</td>\n",
       "      <td>1</td>\n",
       "      <td>0</td>\n",
       "      <td>0</td>\n",
       "      <td>0</td>\n",
       "      <td>2</td>\n",
       "    </tr>\n",
       "    <tr>\n",
       "      <th>9128</th>\n",
       "      <td>0</td>\n",
       "      <td>0.0</td>\n",
       "      <td>50</td>\n",
       "      <td>1</td>\n",
       "      <td>1</td>\n",
       "      <td>0</td>\n",
       "      <td>0</td>\n",
       "      <td>0</td>\n",
       "      <td>1</td>\n",
       "      <td>0</td>\n",
       "      <td>0</td>\n",
       "      <td>0</td>\n",
       "      <td>0</td>\n",
       "      <td>0</td>\n",
       "      <td>1</td>\n",
       "      <td>0</td>\n",
       "      <td>0</td>\n",
       "      <td>0</td>\n",
       "      <td>2</td>\n",
       "    </tr>\n",
       "    <tr>\n",
       "      <th>9129</th>\n",
       "      <td>0</td>\n",
       "      <td>0.0</td>\n",
       "      <td>50</td>\n",
       "      <td>1</td>\n",
       "      <td>0</td>\n",
       "      <td>1</td>\n",
       "      <td>0</td>\n",
       "      <td>0</td>\n",
       "      <td>0</td>\n",
       "      <td>0</td>\n",
       "      <td>1</td>\n",
       "      <td>0</td>\n",
       "      <td>0</td>\n",
       "      <td>0</td>\n",
       "      <td>0</td>\n",
       "      <td>0</td>\n",
       "      <td>1</td>\n",
       "      <td>0</td>\n",
       "      <td>2</td>\n",
       "    </tr>\n",
       "  </tbody>\n",
       "</table>\n",
       "<p>9130 rows × 19 columns</p>\n",
       "</div>"
      ],
      "text/plain": [
       "      요일  피해운전자 성별  연령대  주간야간  가을  겨울  봄  여름  교차로   기타   단일로   미분류   주차장   \\\n",
       "0      0       0.0   50     1   0   1  0   0     0    0     1     0     0   \n",
       "1      0       0.0   70     1   0   1  0   0     0    0     1     0     0   \n",
       "2      0       0.0   50     1   0   0  1   0     0    0     1     0     0   \n",
       "3      0       0.0   60     0   0   0  1   0     0    0     1     0     0   \n",
       "4      0       0.0   80     0   0   0  1   0     0    0     1     0     0   \n",
       "...   ..       ...  ...   ...  ..  .. ..  ..   ...  ...   ...   ...   ...   \n",
       "9125   0       1.0   70     0   1   0  0   0     0    0     1     0     0   \n",
       "9126   0       1.0   50     1   1   0  0   0     0    0     1     0     0   \n",
       "9127   1       0.0   30     1   1   0  0   0     1    0     0     0     0   \n",
       "9128   0       0.0   50     1   1   0  0   0     1    0     0     0     0   \n",
       "9129   0       0.0   50     1   0   1  0   0     0    0     1     0     0   \n",
       "\n",
       "      기타차량  승용  승합  이륜  특수차  피해운전자 상해정도  \n",
       "0        0   1   0   0    0           2  \n",
       "1        0   1   0   0    0           4  \n",
       "2        0   1   0   0    0           3  \n",
       "3        0   1   0   0    0           3  \n",
       "4        0   0   0   1    0           2  \n",
       "...    ...  ..  ..  ..  ...         ...  \n",
       "9125     0   0   1   0    0           3  \n",
       "9126     0   0   0   1    0           3  \n",
       "9127     0   1   0   0    0           2  \n",
       "9128     0   1   0   0    0           2  \n",
       "9129     0   0   0   1    0           2  \n",
       "\n",
       "[9130 rows x 19 columns]"
      ]
     },
     "execution_count": 72,
     "metadata": {},
     "output_type": "execute_result"
    }
   ],
   "source": [
    "data_set"
   ]
  },
  {
   "cell_type": "code",
   "execution_count": 73,
   "id": "641033cf",
   "metadata": {
    "ExecuteTime": {
     "end_time": "2022-08-16T05:26:44.741346Z",
     "start_time": "2022-08-16T05:26:44.726392Z"
    }
   },
   "outputs": [],
   "source": [
    "x=data_set.drop('피해운전자 상해정도',axis=1)\n",
    "y=data_set['피해운전자 상해정도']\n",
    "#테스트 데이터 셋 확인"
   ]
  },
  {
   "cell_type": "code",
   "execution_count": 74,
   "id": "d2a725ce",
   "metadata": {
    "ExecuteTime": {
     "end_time": "2022-08-16T05:26:44.757335Z",
     "start_time": "2022-08-16T05:26:44.742340Z"
    }
   },
   "outputs": [
    {
     "data": {
      "text/html": [
       "<div>\n",
       "<style scoped>\n",
       "    .dataframe tbody tr th:only-of-type {\n",
       "        vertical-align: middle;\n",
       "    }\n",
       "\n",
       "    .dataframe tbody tr th {\n",
       "        vertical-align: top;\n",
       "    }\n",
       "\n",
       "    .dataframe thead th {\n",
       "        text-align: right;\n",
       "    }\n",
       "</style>\n",
       "<table border=\"1\" class=\"dataframe\">\n",
       "  <thead>\n",
       "    <tr style=\"text-align: right;\">\n",
       "      <th></th>\n",
       "      <th>요일</th>\n",
       "      <th>피해운전자 성별</th>\n",
       "      <th>연령대</th>\n",
       "      <th>주간야간</th>\n",
       "      <th>가을</th>\n",
       "      <th>겨울</th>\n",
       "      <th>봄</th>\n",
       "      <th>여름</th>\n",
       "      <th>교차로</th>\n",
       "      <th>기타</th>\n",
       "      <th>단일로</th>\n",
       "      <th>미분류</th>\n",
       "      <th>주차장</th>\n",
       "      <th>기타차량</th>\n",
       "      <th>승용</th>\n",
       "      <th>승합</th>\n",
       "      <th>이륜</th>\n",
       "      <th>특수차</th>\n",
       "    </tr>\n",
       "  </thead>\n",
       "  <tbody>\n",
       "    <tr>\n",
       "      <th>0</th>\n",
       "      <td>0</td>\n",
       "      <td>0.0</td>\n",
       "      <td>50</td>\n",
       "      <td>1</td>\n",
       "      <td>0</td>\n",
       "      <td>1</td>\n",
       "      <td>0</td>\n",
       "      <td>0</td>\n",
       "      <td>0</td>\n",
       "      <td>0</td>\n",
       "      <td>1</td>\n",
       "      <td>0</td>\n",
       "      <td>0</td>\n",
       "      <td>0</td>\n",
       "      <td>1</td>\n",
       "      <td>0</td>\n",
       "      <td>0</td>\n",
       "      <td>0</td>\n",
       "    </tr>\n",
       "    <tr>\n",
       "      <th>1</th>\n",
       "      <td>0</td>\n",
       "      <td>0.0</td>\n",
       "      <td>70</td>\n",
       "      <td>1</td>\n",
       "      <td>0</td>\n",
       "      <td>1</td>\n",
       "      <td>0</td>\n",
       "      <td>0</td>\n",
       "      <td>0</td>\n",
       "      <td>0</td>\n",
       "      <td>1</td>\n",
       "      <td>0</td>\n",
       "      <td>0</td>\n",
       "      <td>0</td>\n",
       "      <td>1</td>\n",
       "      <td>0</td>\n",
       "      <td>0</td>\n",
       "      <td>0</td>\n",
       "    </tr>\n",
       "    <tr>\n",
       "      <th>2</th>\n",
       "      <td>0</td>\n",
       "      <td>0.0</td>\n",
       "      <td>50</td>\n",
       "      <td>1</td>\n",
       "      <td>0</td>\n",
       "      <td>0</td>\n",
       "      <td>1</td>\n",
       "      <td>0</td>\n",
       "      <td>0</td>\n",
       "      <td>0</td>\n",
       "      <td>1</td>\n",
       "      <td>0</td>\n",
       "      <td>0</td>\n",
       "      <td>0</td>\n",
       "      <td>1</td>\n",
       "      <td>0</td>\n",
       "      <td>0</td>\n",
       "      <td>0</td>\n",
       "    </tr>\n",
       "    <tr>\n",
       "      <th>3</th>\n",
       "      <td>0</td>\n",
       "      <td>0.0</td>\n",
       "      <td>60</td>\n",
       "      <td>0</td>\n",
       "      <td>0</td>\n",
       "      <td>0</td>\n",
       "      <td>1</td>\n",
       "      <td>0</td>\n",
       "      <td>0</td>\n",
       "      <td>0</td>\n",
       "      <td>1</td>\n",
       "      <td>0</td>\n",
       "      <td>0</td>\n",
       "      <td>0</td>\n",
       "      <td>1</td>\n",
       "      <td>0</td>\n",
       "      <td>0</td>\n",
       "      <td>0</td>\n",
       "    </tr>\n",
       "    <tr>\n",
       "      <th>4</th>\n",
       "      <td>0</td>\n",
       "      <td>0.0</td>\n",
       "      <td>80</td>\n",
       "      <td>0</td>\n",
       "      <td>0</td>\n",
       "      <td>0</td>\n",
       "      <td>1</td>\n",
       "      <td>0</td>\n",
       "      <td>0</td>\n",
       "      <td>0</td>\n",
       "      <td>1</td>\n",
       "      <td>0</td>\n",
       "      <td>0</td>\n",
       "      <td>0</td>\n",
       "      <td>0</td>\n",
       "      <td>0</td>\n",
       "      <td>1</td>\n",
       "      <td>0</td>\n",
       "    </tr>\n",
       "    <tr>\n",
       "      <th>...</th>\n",
       "      <td>...</td>\n",
       "      <td>...</td>\n",
       "      <td>...</td>\n",
       "      <td>...</td>\n",
       "      <td>...</td>\n",
       "      <td>...</td>\n",
       "      <td>...</td>\n",
       "      <td>...</td>\n",
       "      <td>...</td>\n",
       "      <td>...</td>\n",
       "      <td>...</td>\n",
       "      <td>...</td>\n",
       "      <td>...</td>\n",
       "      <td>...</td>\n",
       "      <td>...</td>\n",
       "      <td>...</td>\n",
       "      <td>...</td>\n",
       "      <td>...</td>\n",
       "    </tr>\n",
       "    <tr>\n",
       "      <th>9125</th>\n",
       "      <td>0</td>\n",
       "      <td>1.0</td>\n",
       "      <td>70</td>\n",
       "      <td>0</td>\n",
       "      <td>1</td>\n",
       "      <td>0</td>\n",
       "      <td>0</td>\n",
       "      <td>0</td>\n",
       "      <td>0</td>\n",
       "      <td>0</td>\n",
       "      <td>1</td>\n",
       "      <td>0</td>\n",
       "      <td>0</td>\n",
       "      <td>0</td>\n",
       "      <td>0</td>\n",
       "      <td>1</td>\n",
       "      <td>0</td>\n",
       "      <td>0</td>\n",
       "    </tr>\n",
       "    <tr>\n",
       "      <th>9126</th>\n",
       "      <td>0</td>\n",
       "      <td>1.0</td>\n",
       "      <td>50</td>\n",
       "      <td>1</td>\n",
       "      <td>1</td>\n",
       "      <td>0</td>\n",
       "      <td>0</td>\n",
       "      <td>0</td>\n",
       "      <td>0</td>\n",
       "      <td>0</td>\n",
       "      <td>1</td>\n",
       "      <td>0</td>\n",
       "      <td>0</td>\n",
       "      <td>0</td>\n",
       "      <td>0</td>\n",
       "      <td>0</td>\n",
       "      <td>1</td>\n",
       "      <td>0</td>\n",
       "    </tr>\n",
       "    <tr>\n",
       "      <th>9127</th>\n",
       "      <td>1</td>\n",
       "      <td>0.0</td>\n",
       "      <td>30</td>\n",
       "      <td>1</td>\n",
       "      <td>1</td>\n",
       "      <td>0</td>\n",
       "      <td>0</td>\n",
       "      <td>0</td>\n",
       "      <td>1</td>\n",
       "      <td>0</td>\n",
       "      <td>0</td>\n",
       "      <td>0</td>\n",
       "      <td>0</td>\n",
       "      <td>0</td>\n",
       "      <td>1</td>\n",
       "      <td>0</td>\n",
       "      <td>0</td>\n",
       "      <td>0</td>\n",
       "    </tr>\n",
       "    <tr>\n",
       "      <th>9128</th>\n",
       "      <td>0</td>\n",
       "      <td>0.0</td>\n",
       "      <td>50</td>\n",
       "      <td>1</td>\n",
       "      <td>1</td>\n",
       "      <td>0</td>\n",
       "      <td>0</td>\n",
       "      <td>0</td>\n",
       "      <td>1</td>\n",
       "      <td>0</td>\n",
       "      <td>0</td>\n",
       "      <td>0</td>\n",
       "      <td>0</td>\n",
       "      <td>0</td>\n",
       "      <td>1</td>\n",
       "      <td>0</td>\n",
       "      <td>0</td>\n",
       "      <td>0</td>\n",
       "    </tr>\n",
       "    <tr>\n",
       "      <th>9129</th>\n",
       "      <td>0</td>\n",
       "      <td>0.0</td>\n",
       "      <td>50</td>\n",
       "      <td>1</td>\n",
       "      <td>0</td>\n",
       "      <td>1</td>\n",
       "      <td>0</td>\n",
       "      <td>0</td>\n",
       "      <td>0</td>\n",
       "      <td>0</td>\n",
       "      <td>1</td>\n",
       "      <td>0</td>\n",
       "      <td>0</td>\n",
       "      <td>0</td>\n",
       "      <td>0</td>\n",
       "      <td>0</td>\n",
       "      <td>1</td>\n",
       "      <td>0</td>\n",
       "    </tr>\n",
       "  </tbody>\n",
       "</table>\n",
       "<p>9130 rows × 18 columns</p>\n",
       "</div>"
      ],
      "text/plain": [
       "      요일  피해운전자 성별  연령대  주간야간  가을  겨울  봄  여름  교차로   기타   단일로   미분류   주차장   \\\n",
       "0      0       0.0   50     1   0   1  0   0     0    0     1     0     0   \n",
       "1      0       0.0   70     1   0   1  0   0     0    0     1     0     0   \n",
       "2      0       0.0   50     1   0   0  1   0     0    0     1     0     0   \n",
       "3      0       0.0   60     0   0   0  1   0     0    0     1     0     0   \n",
       "4      0       0.0   80     0   0   0  1   0     0    0     1     0     0   \n",
       "...   ..       ...  ...   ...  ..  .. ..  ..   ...  ...   ...   ...   ...   \n",
       "9125   0       1.0   70     0   1   0  0   0     0    0     1     0     0   \n",
       "9126   0       1.0   50     1   1   0  0   0     0    0     1     0     0   \n",
       "9127   1       0.0   30     1   1   0  0   0     1    0     0     0     0   \n",
       "9128   0       0.0   50     1   1   0  0   0     1    0     0     0     0   \n",
       "9129   0       0.0   50     1   0   1  0   0     0    0     1     0     0   \n",
       "\n",
       "      기타차량  승용  승합  이륜  특수차  \n",
       "0        0   1   0   0    0  \n",
       "1        0   1   0   0    0  \n",
       "2        0   1   0   0    0  \n",
       "3        0   1   0   0    0  \n",
       "4        0   0   0   1    0  \n",
       "...    ...  ..  ..  ..  ...  \n",
       "9125     0   0   1   0    0  \n",
       "9126     0   0   0   1    0  \n",
       "9127     0   1   0   0    0  \n",
       "9128     0   1   0   0    0  \n",
       "9129     0   0   0   1    0  \n",
       "\n",
       "[9130 rows x 18 columns]"
      ]
     },
     "execution_count": 74,
     "metadata": {},
     "output_type": "execute_result"
    }
   ],
   "source": [
    "x"
   ]
  },
  {
   "cell_type": "code",
   "execution_count": 75,
   "id": "868e974e",
   "metadata": {
    "ExecuteTime": {
     "end_time": "2022-08-16T05:26:45.584801Z",
     "start_time": "2022-08-16T05:26:44.758286Z"
    }
   },
   "outputs": [
    {
     "data": {
      "text/plain": [
       "<AxesSubplot:>"
      ]
     },
     "execution_count": 75,
     "metadata": {},
     "output_type": "execute_result"
    },
    {
     "data": {
      "image/png": "[encoded data removed]",
      "text/plain": [
       "<Figure size 432x288 with 2 Axes>"
      ]
     },
     "metadata": {
      "needs_background": "light"
     },
     "output_type": "display_data"
    }
   ],
   "source": [
    "sns.heatmap(x.corr(),annot=True)\n",
    "#각 피쳐별 상관관계 확인 "
   ]
  },
  {
   "cell_type": "code",
   "execution_count": 76,
   "id": "e9786d06",
   "metadata": {
    "ExecuteTime": {
     "end_time": "2022-08-16T05:26:45.615792Z",
     "start_time": "2022-08-16T05:26:45.585729Z"
    },
    "scrolled": true
   },
   "outputs": [
    {
     "data": {
      "text/html": [
       "<div>\n",
       "<style scoped>\n",
       "    .dataframe tbody tr th:only-of-type {\n",
       "        vertical-align: middle;\n",
       "    }\n",
       "\n",
       "    .dataframe tbody tr th {\n",
       "        vertical-align: top;\n",
       "    }\n",
       "\n",
       "    .dataframe thead th {\n",
       "        text-align: right;\n",
       "    }\n",
       "</style>\n",
       "<table border=\"1\" class=\"dataframe\">\n",
       "  <thead>\n",
       "    <tr style=\"text-align: right;\">\n",
       "      <th></th>\n",
       "      <th>요일</th>\n",
       "      <th>피해운전자 성별</th>\n",
       "      <th>연령대</th>\n",
       "      <th>주간야간</th>\n",
       "      <th>가을</th>\n",
       "      <th>겨울</th>\n",
       "      <th>봄</th>\n",
       "      <th>여름</th>\n",
       "      <th>교차로</th>\n",
       "      <th>기타</th>\n",
       "      <th>단일로</th>\n",
       "      <th>미분류</th>\n",
       "      <th>주차장</th>\n",
       "      <th>기타차량</th>\n",
       "      <th>승용</th>\n",
       "      <th>승합</th>\n",
       "      <th>이륜</th>\n",
       "      <th>특수차</th>\n",
       "    </tr>\n",
       "  </thead>\n",
       "  <tbody>\n",
       "    <tr>\n",
       "      <th>요일</th>\n",
       "      <td>1.000000</td>\n",
       "      <td>-0.071518</td>\n",
       "      <td>-0.032117</td>\n",
       "      <td>0.089021</td>\n",
       "      <td>0.014725</td>\n",
       "      <td>-0.006704</td>\n",
       "      <td>-0.006745</td>\n",
       "      <td>-0.001339</td>\n",
       "      <td>0.029756</td>\n",
       "      <td>0.009375</td>\n",
       "      <td>-0.031445</td>\n",
       "      <td>-0.006310</td>\n",
       "      <td>-0.008924</td>\n",
       "      <td>-0.019097</td>\n",
       "      <td>0.082434</td>\n",
       "      <td>-0.046445</td>\n",
       "      <td>-0.015837</td>\n",
       "      <td>-0.055813</td>\n",
       "    </tr>\n",
       "    <tr>\n",
       "      <th>피해운전자 성별</th>\n",
       "      <td>-0.071518</td>\n",
       "      <td>1.000000</td>\n",
       "      <td>0.188667</td>\n",
       "      <td>-0.253435</td>\n",
       "      <td>0.022495</td>\n",
       "      <td>-0.032939</td>\n",
       "      <td>0.016391</td>\n",
       "      <td>-0.006374</td>\n",
       "      <td>0.056377</td>\n",
       "      <td>-0.011804</td>\n",
       "      <td>-0.051013</td>\n",
       "      <td>-0.009343</td>\n",
       "      <td>0.001684</td>\n",
       "      <td>0.022620</td>\n",
       "      <td>-0.075281</td>\n",
       "      <td>-0.003000</td>\n",
       "      <td>0.052866</td>\n",
       "      <td>0.057082</td>\n",
       "    </tr>\n",
       "    <tr>\n",
       "      <th>연령대</th>\n",
       "      <td>-0.032117</td>\n",
       "      <td>0.188667</td>\n",
       "      <td>1.000000</td>\n",
       "      <td>-0.101526</td>\n",
       "      <td>0.029053</td>\n",
       "      <td>0.026676</td>\n",
       "      <td>-0.009882</td>\n",
       "      <td>-0.046562</td>\n",
       "      <td>0.040659</td>\n",
       "      <td>0.010905</td>\n",
       "      <td>-0.042996</td>\n",
       "      <td>-0.005007</td>\n",
       "      <td>0.003610</td>\n",
       "      <td>-0.009510</td>\n",
       "      <td>-0.069721</td>\n",
       "      <td>0.009523</td>\n",
       "      <td>0.039908</td>\n",
       "      <td>0.059799</td>\n",
       "    </tr>\n",
       "    <tr>\n",
       "      <th>주간야간</th>\n",
       "      <td>0.089021</td>\n",
       "      <td>-0.253435</td>\n",
       "      <td>-0.101526</td>\n",
       "      <td>1.000000</td>\n",
       "      <td>-0.025856</td>\n",
       "      <td>0.030114</td>\n",
       "      <td>-0.011498</td>\n",
       "      <td>0.007660</td>\n",
       "      <td>-0.027083</td>\n",
       "      <td>0.009242</td>\n",
       "      <td>0.023262</td>\n",
       "      <td>0.009843</td>\n",
       "      <td>-0.000910</td>\n",
       "      <td>-0.016904</td>\n",
       "      <td>0.141085</td>\n",
       "      <td>-0.082633</td>\n",
       "      <td>-0.032809</td>\n",
       "      <td>-0.092232</td>\n",
       "    </tr>\n",
       "    <tr>\n",
       "      <th>가을</th>\n",
       "      <td>0.014725</td>\n",
       "      <td>0.022495</td>\n",
       "      <td>0.029053</td>\n",
       "      <td>-0.025856</td>\n",
       "      <td>1.000000</td>\n",
       "      <td>-0.336533</td>\n",
       "      <td>-0.343633</td>\n",
       "      <td>-0.328249</td>\n",
       "      <td>-0.001261</td>\n",
       "      <td>0.007729</td>\n",
       "      <td>-0.000751</td>\n",
       "      <td>-0.006119</td>\n",
       "      <td>-0.008655</td>\n",
       "      <td>-0.023477</td>\n",
       "      <td>-0.018660</td>\n",
       "      <td>0.029903</td>\n",
       "      <td>0.006352</td>\n",
       "      <td>0.000127</td>\n",
       "    </tr>\n",
       "    <tr>\n",
       "      <th>겨울</th>\n",
       "      <td>-0.006704</td>\n",
       "      <td>-0.032939</td>\n",
       "      <td>0.026676</td>\n",
       "      <td>0.030114</td>\n",
       "      <td>-0.336533</td>\n",
       "      <td>1.000000</td>\n",
       "      <td>-0.338281</td>\n",
       "      <td>-0.323137</td>\n",
       "      <td>0.005662</td>\n",
       "      <td>-0.025719</td>\n",
       "      <td>0.002397</td>\n",
       "      <td>0.018184</td>\n",
       "      <td>-0.008520</td>\n",
       "      <td>0.008565</td>\n",
       "      <td>0.026642</td>\n",
       "      <td>0.005794</td>\n",
       "      <td>-0.038693</td>\n",
       "      <td>-0.011142</td>\n",
       "    </tr>\n",
       "    <tr>\n",
       "      <th>봄</th>\n",
       "      <td>-0.006745</td>\n",
       "      <td>0.016391</td>\n",
       "      <td>-0.009882</td>\n",
       "      <td>-0.011498</td>\n",
       "      <td>-0.343633</td>\n",
       "      <td>-0.338281</td>\n",
       "      <td>1.000000</td>\n",
       "      <td>-0.329954</td>\n",
       "      <td>0.008126</td>\n",
       "      <td>0.021838</td>\n",
       "      <td>-0.015460</td>\n",
       "      <td>-0.006151</td>\n",
       "      <td>0.025186</td>\n",
       "      <td>0.004180</td>\n",
       "      <td>0.001579</td>\n",
       "      <td>-0.009428</td>\n",
       "      <td>0.009722</td>\n",
       "      <td>-0.003862</td>\n",
       "    </tr>\n",
       "    <tr>\n",
       "      <th>여름</th>\n",
       "      <td>-0.001339</td>\n",
       "      <td>-0.006374</td>\n",
       "      <td>-0.046562</td>\n",
       "      <td>0.007660</td>\n",
       "      <td>-0.328249</td>\n",
       "      <td>-0.323137</td>\n",
       "      <td>-0.329954</td>\n",
       "      <td>1.000000</td>\n",
       "      <td>-0.012762</td>\n",
       "      <td>-0.004189</td>\n",
       "      <td>0.014160</td>\n",
       "      <td>-0.005876</td>\n",
       "      <td>-0.008310</td>\n",
       "      <td>0.011011</td>\n",
       "      <td>-0.009553</td>\n",
       "      <td>-0.026744</td>\n",
       "      <td>0.022758</td>\n",
       "      <td>0.015107</td>\n",
       "    </tr>\n",
       "    <tr>\n",
       "      <th>교차로</th>\n",
       "      <td>0.029756</td>\n",
       "      <td>0.056377</td>\n",
       "      <td>0.040659</td>\n",
       "      <td>-0.027083</td>\n",
       "      <td>-0.001261</td>\n",
       "      <td>0.005662</td>\n",
       "      <td>0.008126</td>\n",
       "      <td>-0.012762</td>\n",
       "      <td>1.000000</td>\n",
       "      <td>-0.076296</td>\n",
       "      <td>-0.949106</td>\n",
       "      <td>-0.005763</td>\n",
       "      <td>-0.008150</td>\n",
       "      <td>0.022603</td>\n",
       "      <td>0.016909</td>\n",
       "      <td>-0.039417</td>\n",
       "      <td>-0.031603</td>\n",
       "      <td>0.036796</td>\n",
       "    </tr>\n",
       "    <tr>\n",
       "      <th>기타</th>\n",
       "      <td>0.009375</td>\n",
       "      <td>-0.011804</td>\n",
       "      <td>0.010905</td>\n",
       "      <td>0.009242</td>\n",
       "      <td>0.007729</td>\n",
       "      <td>-0.025719</td>\n",
       "      <td>0.021838</td>\n",
       "      <td>-0.004189</td>\n",
       "      <td>-0.076296</td>\n",
       "      <td>1.000000</td>\n",
       "      <td>-0.238853</td>\n",
       "      <td>-0.001450</td>\n",
       "      <td>-0.002051</td>\n",
       "      <td>0.000023</td>\n",
       "      <td>0.016988</td>\n",
       "      <td>-0.004930</td>\n",
       "      <td>0.000222</td>\n",
       "      <td>-0.020854</td>\n",
       "    </tr>\n",
       "    <tr>\n",
       "      <th>단일로</th>\n",
       "      <td>-0.031445</td>\n",
       "      <td>-0.051013</td>\n",
       "      <td>-0.042996</td>\n",
       "      <td>0.023262</td>\n",
       "      <td>-0.000751</td>\n",
       "      <td>0.002397</td>\n",
       "      <td>-0.015460</td>\n",
       "      <td>0.014160</td>\n",
       "      <td>-0.949106</td>\n",
       "      <td>-0.238853</td>\n",
       "      <td>1.000000</td>\n",
       "      <td>-0.018041</td>\n",
       "      <td>-0.025515</td>\n",
       "      <td>-0.024283</td>\n",
       "      <td>-0.021253</td>\n",
       "      <td>0.040180</td>\n",
       "      <td>0.030126</td>\n",
       "      <td>-0.029018</td>\n",
       "    </tr>\n",
       "    <tr>\n",
       "      <th>미분류</th>\n",
       "      <td>-0.006310</td>\n",
       "      <td>-0.009343</td>\n",
       "      <td>-0.005007</td>\n",
       "      <td>0.009843</td>\n",
       "      <td>-0.006119</td>\n",
       "      <td>0.018184</td>\n",
       "      <td>-0.006151</td>\n",
       "      <td>-0.005876</td>\n",
       "      <td>-0.005763</td>\n",
       "      <td>-0.001450</td>\n",
       "      <td>-0.018041</td>\n",
       "      <td>1.000000</td>\n",
       "      <td>-0.000155</td>\n",
       "      <td>-0.001134</td>\n",
       "      <td>0.007462</td>\n",
       "      <td>-0.003679</td>\n",
       "      <td>-0.003569</td>\n",
       "      <td>-0.003704</td>\n",
       "    </tr>\n",
       "    <tr>\n",
       "      <th>주차장</th>\n",
       "      <td>-0.008924</td>\n",
       "      <td>0.001684</td>\n",
       "      <td>0.003610</td>\n",
       "      <td>-0.000910</td>\n",
       "      <td>-0.008655</td>\n",
       "      <td>-0.008520</td>\n",
       "      <td>0.025186</td>\n",
       "      <td>-0.008310</td>\n",
       "      <td>-0.008150</td>\n",
       "      <td>-0.002051</td>\n",
       "      <td>-0.025515</td>\n",
       "      <td>-0.000155</td>\n",
       "      <td>1.000000</td>\n",
       "      <td>0.067486</td>\n",
       "      <td>-0.020761</td>\n",
       "      <td>-0.005203</td>\n",
       "      <td>0.019181</td>\n",
       "      <td>-0.005238</td>\n",
       "    </tr>\n",
       "    <tr>\n",
       "      <th>기타차량</th>\n",
       "      <td>-0.019097</td>\n",
       "      <td>0.022620</td>\n",
       "      <td>-0.009510</td>\n",
       "      <td>-0.016904</td>\n",
       "      <td>-0.023477</td>\n",
       "      <td>0.008565</td>\n",
       "      <td>0.004180</td>\n",
       "      <td>0.011011</td>\n",
       "      <td>0.022603</td>\n",
       "      <td>0.000023</td>\n",
       "      <td>-0.024283</td>\n",
       "      <td>-0.001134</td>\n",
       "      <td>0.067486</td>\n",
       "      <td>1.000000</td>\n",
       "      <td>-0.152011</td>\n",
       "      <td>-0.038096</td>\n",
       "      <td>-0.036957</td>\n",
       "      <td>-0.038352</td>\n",
       "    </tr>\n",
       "    <tr>\n",
       "      <th>승용</th>\n",
       "      <td>0.082434</td>\n",
       "      <td>-0.075281</td>\n",
       "      <td>-0.069721</td>\n",
       "      <td>0.141085</td>\n",
       "      <td>-0.018660</td>\n",
       "      <td>0.026642</td>\n",
       "      <td>0.001579</td>\n",
       "      <td>-0.009553</td>\n",
       "      <td>0.016909</td>\n",
       "      <td>0.016988</td>\n",
       "      <td>-0.021253</td>\n",
       "      <td>0.007462</td>\n",
       "      <td>-0.020761</td>\n",
       "      <td>-0.152011</td>\n",
       "      <td>1.000000</td>\n",
       "      <td>-0.493004</td>\n",
       "      <td>-0.478257</td>\n",
       "      <td>-0.496308</td>\n",
       "    </tr>\n",
       "    <tr>\n",
       "      <th>승합</th>\n",
       "      <td>-0.046445</td>\n",
       "      <td>-0.003000</td>\n",
       "      <td>0.009523</td>\n",
       "      <td>-0.082633</td>\n",
       "      <td>0.029903</td>\n",
       "      <td>0.005794</td>\n",
       "      <td>-0.009428</td>\n",
       "      <td>-0.026744</td>\n",
       "      <td>-0.039417</td>\n",
       "      <td>-0.004930</td>\n",
       "      <td>0.040180</td>\n",
       "      <td>-0.003679</td>\n",
       "      <td>-0.005203</td>\n",
       "      <td>-0.038096</td>\n",
       "      <td>-0.493004</td>\n",
       "      <td>1.000000</td>\n",
       "      <td>-0.119858</td>\n",
       "      <td>-0.124382</td>\n",
       "    </tr>\n",
       "    <tr>\n",
       "      <th>이륜</th>\n",
       "      <td>-0.015837</td>\n",
       "      <td>0.052866</td>\n",
       "      <td>0.039908</td>\n",
       "      <td>-0.032809</td>\n",
       "      <td>0.006352</td>\n",
       "      <td>-0.038693</td>\n",
       "      <td>0.009722</td>\n",
       "      <td>0.022758</td>\n",
       "      <td>-0.031603</td>\n",
       "      <td>0.000222</td>\n",
       "      <td>0.030126</td>\n",
       "      <td>-0.003569</td>\n",
       "      <td>0.019181</td>\n",
       "      <td>-0.036957</td>\n",
       "      <td>-0.478257</td>\n",
       "      <td>-0.119858</td>\n",
       "      <td>1.000000</td>\n",
       "      <td>-0.120662</td>\n",
       "    </tr>\n",
       "    <tr>\n",
       "      <th>특수차</th>\n",
       "      <td>-0.055813</td>\n",
       "      <td>0.057082</td>\n",
       "      <td>0.059799</td>\n",
       "      <td>-0.092232</td>\n",
       "      <td>0.000127</td>\n",
       "      <td>-0.011142</td>\n",
       "      <td>-0.003862</td>\n",
       "      <td>0.015107</td>\n",
       "      <td>0.036796</td>\n",
       "      <td>-0.020854</td>\n",
       "      <td>-0.029018</td>\n",
       "      <td>-0.003704</td>\n",
       "      <td>-0.005238</td>\n",
       "      <td>-0.038352</td>\n",
       "      <td>-0.496308</td>\n",
       "      <td>-0.124382</td>\n",
       "      <td>-0.120662</td>\n",
       "      <td>1.000000</td>\n",
       "    </tr>\n",
       "  </tbody>\n",
       "</table>\n",
       "</div>"
      ],
      "text/plain": [
       "                요일  피해운전자 성별       연령대      주간야간        가을        겨울  \\\n",
       "요일        1.000000 -0.071518 -0.032117  0.089021  0.014725 -0.006704   \n",
       "피해운전자 성별 -0.071518  1.000000  0.188667 -0.253435  0.022495 -0.032939   \n",
       "연령대      -0.032117  0.188667  1.000000 -0.101526  0.029053  0.026676   \n",
       "주간야간      0.089021 -0.253435 -0.101526  1.000000 -0.025856  0.030114   \n",
       "가을        0.014725  0.022495  0.029053 -0.025856  1.000000 -0.336533   \n",
       "겨울       -0.006704 -0.032939  0.026676  0.030114 -0.336533  1.000000   \n",
       "봄        -0.006745  0.016391 -0.009882 -0.011498 -0.343633 -0.338281   \n",
       "여름       -0.001339 -0.006374 -0.046562  0.007660 -0.328249 -0.323137   \n",
       "교차로       0.029756  0.056377  0.040659 -0.027083 -0.001261  0.005662   \n",
       "기타        0.009375 -0.011804  0.010905  0.009242  0.007729 -0.025719   \n",
       "단일로      -0.031445 -0.051013 -0.042996  0.023262 -0.000751  0.002397   \n",
       "미분류      -0.006310 -0.009343 -0.005007  0.009843 -0.006119  0.018184   \n",
       "주차장      -0.008924  0.001684  0.003610 -0.000910 -0.008655 -0.008520   \n",
       "기타차량     -0.019097  0.022620 -0.009510 -0.016904 -0.023477  0.008565   \n",
       "승용        0.082434 -0.075281 -0.069721  0.141085 -0.018660  0.026642   \n",
       "승합       -0.046445 -0.003000  0.009523 -0.082633  0.029903  0.005794   \n",
       "이륜       -0.015837  0.052866  0.039908 -0.032809  0.006352 -0.038693   \n",
       "특수차      -0.055813  0.057082  0.059799 -0.092232  0.000127 -0.011142   \n",
       "\n",
       "                 봄        여름      교차로        기타       단일로       미분류   \\\n",
       "요일       -0.006745 -0.001339  0.029756  0.009375 -0.031445 -0.006310   \n",
       "피해운전자 성별  0.016391 -0.006374  0.056377 -0.011804 -0.051013 -0.009343   \n",
       "연령대      -0.009882 -0.046562  0.040659  0.010905 -0.042996 -0.005007   \n",
       "주간야간     -0.011498  0.007660 -0.027083  0.009242  0.023262  0.009843   \n",
       "가을       -0.343633 -0.328249 -0.001261  0.007729 -0.000751 -0.006119   \n",
       "겨울       -0.338281 -0.323137  0.005662 -0.025719  0.002397  0.018184   \n",
       "봄         1.000000 -0.329954  0.008126  0.021838 -0.015460 -0.006151   \n",
       "여름       -0.329954  1.000000 -0.012762 -0.004189  0.014160 -0.005876   \n",
       "교차로       0.008126 -0.012762  1.000000 -0.076296 -0.949106 -0.005763   \n",
       "기타        0.021838 -0.004189 -0.076296  1.000000 -0.238853 -0.001450   \n",
       "단일로      -0.015460  0.014160 -0.949106 -0.238853  1.000000 -0.018041   \n",
       "미분류      -0.006151 -0.005876 -0.005763 -0.001450 -0.018041  1.000000   \n",
       "주차장       0.025186 -0.008310 -0.008150 -0.002051 -0.025515 -0.000155   \n",
       "기타차량      0.004180  0.011011  0.022603  0.000023 -0.024283 -0.001134   \n",
       "승용        0.001579 -0.009553  0.016909  0.016988 -0.021253  0.007462   \n",
       "승합       -0.009428 -0.026744 -0.039417 -0.004930  0.040180 -0.003679   \n",
       "이륜        0.009722  0.022758 -0.031603  0.000222  0.030126 -0.003569   \n",
       "특수차      -0.003862  0.015107  0.036796 -0.020854 -0.029018 -0.003704   \n",
       "\n",
       "              주차장       기타차량        승용        승합        이륜       특수차  \n",
       "요일       -0.008924 -0.019097  0.082434 -0.046445 -0.015837 -0.055813  \n",
       "피해운전자 성별  0.001684  0.022620 -0.075281 -0.003000  0.052866  0.057082  \n",
       "연령대       0.003610 -0.009510 -0.069721  0.009523  0.039908  0.059799  \n",
       "주간야간     -0.000910 -0.016904  0.141085 -0.082633 -0.032809 -0.092232  \n",
       "가을       -0.008655 -0.023477 -0.018660  0.029903  0.006352  0.000127  \n",
       "겨울       -0.008520  0.008565  0.026642  0.005794 -0.038693 -0.011142  \n",
       "봄         0.025186  0.004180  0.001579 -0.009428  0.009722 -0.003862  \n",
       "여름       -0.008310  0.011011 -0.009553 -0.026744  0.022758  0.015107  \n",
       "교차로      -0.008150  0.022603  0.016909 -0.039417 -0.031603  0.036796  \n",
       "기타       -0.002051  0.000023  0.016988 -0.004930  0.000222 -0.020854  \n",
       "단일로      -0.025515 -0.024283 -0.021253  0.040180  0.030126 -0.029018  \n",
       "미분류      -0.000155 -0.001134  0.007462 -0.003679 -0.003569 -0.003704  \n",
       "주차장       1.000000  0.067486 -0.020761 -0.005203  0.019181 -0.005238  \n",
       "기타차량      0.067486  1.000000 -0.152011 -0.038096 -0.036957 -0.038352  \n",
       "승용       -0.020761 -0.152011  1.000000 -0.493004 -0.478257 -0.496308  \n",
       "승합       -0.005203 -0.038096 -0.493004  1.000000 -0.119858 -0.124382  \n",
       "이륜        0.019181 -0.036957 -0.478257 -0.119858  1.000000 -0.120662  \n",
       "특수차      -0.005238 -0.038352 -0.496308 -0.124382 -0.120662  1.000000  "
      ]
     },
     "execution_count": 76,
     "metadata": {},
     "output_type": "execute_result"
    }
   ],
   "source": [
    "x.corr()"
   ]
  },
  {
   "cell_type": "code",
   "execution_count": 77,
   "id": "0e255db4",
   "metadata": {
    "ExecuteTime": {
     "end_time": "2022-08-16T05:26:45.756252Z",
     "start_time": "2022-08-16T05:26:45.616719Z"
    },
    "scrolled": true
   },
   "outputs": [
    {
     "name": "stderr",
     "output_type": "stream",
     "text": [
      "C:\\Users\\user\\anaconda3\\lib\\site-packages\\statsmodels\\stats\\outliers_influence.py:195: RuntimeWarning: divide by zero encountered in double_scalars\n",
      "  vif = 1. / (1. - r_squared_i)\n"
     ]
    },
    {
     "data": {
      "text/html": [
       "<div>\n",
       "<style scoped>\n",
       "    .dataframe tbody tr th:only-of-type {\n",
       "        vertical-align: middle;\n",
       "    }\n",
       "\n",
       "    .dataframe tbody tr th {\n",
       "        vertical-align: top;\n",
       "    }\n",
       "\n",
       "    .dataframe thead th {\n",
       "        text-align: right;\n",
       "    }\n",
       "</style>\n",
       "<table border=\"1\" class=\"dataframe\">\n",
       "  <thead>\n",
       "    <tr style=\"text-align: right;\">\n",
       "      <th></th>\n",
       "      <th>VIF FACTOR</th>\n",
       "      <th>Features</th>\n",
       "    </tr>\n",
       "  </thead>\n",
       "  <tbody>\n",
       "    <tr>\n",
       "      <th>0</th>\n",
       "      <td>1.018085</td>\n",
       "      <td>요일</td>\n",
       "    </tr>\n",
       "    <tr>\n",
       "      <th>1</th>\n",
       "      <td>1.049027</td>\n",
       "      <td>연령대</td>\n",
       "    </tr>\n",
       "    <tr>\n",
       "      <th>2</th>\n",
       "      <td>1.096696</td>\n",
       "      <td>주간야간</td>\n",
       "    </tr>\n",
       "    <tr>\n",
       "      <th>3</th>\n",
       "      <td>1.109990</td>\n",
       "      <td>피해운전자 성별</td>\n",
       "    </tr>\n",
       "    <tr>\n",
       "      <th>4</th>\n",
       "      <td>inf</td>\n",
       "      <td>승합</td>\n",
       "    </tr>\n",
       "    <tr>\n",
       "      <th>5</th>\n",
       "      <td>inf</td>\n",
       "      <td>승용</td>\n",
       "    </tr>\n",
       "    <tr>\n",
       "      <th>6</th>\n",
       "      <td>inf</td>\n",
       "      <td>기타차량</td>\n",
       "    </tr>\n",
       "    <tr>\n",
       "      <th>7</th>\n",
       "      <td>inf</td>\n",
       "      <td>주차장</td>\n",
       "    </tr>\n",
       "    <tr>\n",
       "      <th>8</th>\n",
       "      <td>inf</td>\n",
       "      <td>미분류</td>\n",
       "    </tr>\n",
       "    <tr>\n",
       "      <th>9</th>\n",
       "      <td>inf</td>\n",
       "      <td>단일로</td>\n",
       "    </tr>\n",
       "    <tr>\n",
       "      <th>10</th>\n",
       "      <td>inf</td>\n",
       "      <td>교차로</td>\n",
       "    </tr>\n",
       "    <tr>\n",
       "      <th>11</th>\n",
       "      <td>inf</td>\n",
       "      <td>이륜</td>\n",
       "    </tr>\n",
       "    <tr>\n",
       "      <th>12</th>\n",
       "      <td>inf</td>\n",
       "      <td>여름</td>\n",
       "    </tr>\n",
       "    <tr>\n",
       "      <th>13</th>\n",
       "      <td>inf</td>\n",
       "      <td>봄</td>\n",
       "    </tr>\n",
       "    <tr>\n",
       "      <th>14</th>\n",
       "      <td>inf</td>\n",
       "      <td>겨울</td>\n",
       "    </tr>\n",
       "    <tr>\n",
       "      <th>15</th>\n",
       "      <td>inf</td>\n",
       "      <td>가을</td>\n",
       "    </tr>\n",
       "    <tr>\n",
       "      <th>16</th>\n",
       "      <td>inf</td>\n",
       "      <td>기타</td>\n",
       "    </tr>\n",
       "    <tr>\n",
       "      <th>17</th>\n",
       "      <td>inf</td>\n",
       "      <td>특수차</td>\n",
       "    </tr>\n",
       "  </tbody>\n",
       "</table>\n",
       "</div>"
      ],
      "text/plain": [
       "    VIF FACTOR  Features\n",
       "0     1.018085        요일\n",
       "1     1.049027       연령대\n",
       "2     1.096696      주간야간\n",
       "3     1.109990  피해운전자 성별\n",
       "4          inf        승합\n",
       "5          inf        승용\n",
       "6          inf      기타차량\n",
       "7          inf      주차장 \n",
       "8          inf      미분류 \n",
       "9          inf      단일로 \n",
       "10         inf      교차로 \n",
       "11         inf        이륜\n",
       "12         inf        여름\n",
       "13         inf         봄\n",
       "14         inf        겨울\n",
       "15         inf        가을\n",
       "16         inf       기타 \n",
       "17         inf       특수차"
      ]
     },
     "execution_count": 77,
     "metadata": {},
     "output_type": "execute_result"
    }
   ],
   "source": [
    "from statsmodels.stats.outliers_influence import variance_inflation_factor\n",
    "\n",
    "vif=pd.DataFrame()\n",
    "vif['VIF FACTOR']=[variance_inflation_factor(x.values,i) for i in range(x.shape[1])]\n",
    "vif['Features']=x.columns\n",
    "vif=vif.sort_values(\"VIF FACTOR\").reset_index(drop=True)\n",
    "vif\n",
    "#다중공산성 확인 다중공산성이 있을수록 모델 학습에 안좋은 영향을 미치기 때문에 "
   ]
  },
  {
   "cell_type": "code",
   "execution_count": 78,
   "id": "b3266ce9",
   "metadata": {
    "ExecuteTime": {
     "end_time": "2022-08-16T05:26:45.772203Z",
     "start_time": "2022-08-16T05:26:45.757249Z"
    },
    "scrolled": true
   },
   "outputs": [
    {
     "data": {
      "text/html": [
       "<div>\n",
       "<style scoped>\n",
       "    .dataframe tbody tr th:only-of-type {\n",
       "        vertical-align: middle;\n",
       "    }\n",
       "\n",
       "    .dataframe tbody tr th {\n",
       "        vertical-align: top;\n",
       "    }\n",
       "\n",
       "    .dataframe thead th {\n",
       "        text-align: right;\n",
       "    }\n",
       "</style>\n",
       "<table border=\"1\" class=\"dataframe\">\n",
       "  <thead>\n",
       "    <tr style=\"text-align: right;\">\n",
       "      <th></th>\n",
       "      <th>요일</th>\n",
       "      <th>연령대</th>\n",
       "      <th>주간야간</th>\n",
       "      <th>피해운전자 성별</th>\n",
       "      <th>피해운전자 상해정도</th>\n",
       "    </tr>\n",
       "  </thead>\n",
       "  <tbody>\n",
       "    <tr>\n",
       "      <th>0</th>\n",
       "      <td>0</td>\n",
       "      <td>50</td>\n",
       "      <td>1</td>\n",
       "      <td>0.0</td>\n",
       "      <td>2</td>\n",
       "    </tr>\n",
       "    <tr>\n",
       "      <th>1</th>\n",
       "      <td>0</td>\n",
       "      <td>70</td>\n",
       "      <td>1</td>\n",
       "      <td>0.0</td>\n",
       "      <td>4</td>\n",
       "    </tr>\n",
       "    <tr>\n",
       "      <th>2</th>\n",
       "      <td>0</td>\n",
       "      <td>50</td>\n",
       "      <td>1</td>\n",
       "      <td>0.0</td>\n",
       "      <td>3</td>\n",
       "    </tr>\n",
       "    <tr>\n",
       "      <th>3</th>\n",
       "      <td>0</td>\n",
       "      <td>60</td>\n",
       "      <td>0</td>\n",
       "      <td>0.0</td>\n",
       "      <td>3</td>\n",
       "    </tr>\n",
       "    <tr>\n",
       "      <th>4</th>\n",
       "      <td>0</td>\n",
       "      <td>80</td>\n",
       "      <td>0</td>\n",
       "      <td>0.0</td>\n",
       "      <td>2</td>\n",
       "    </tr>\n",
       "    <tr>\n",
       "      <th>...</th>\n",
       "      <td>...</td>\n",
       "      <td>...</td>\n",
       "      <td>...</td>\n",
       "      <td>...</td>\n",
       "      <td>...</td>\n",
       "    </tr>\n",
       "    <tr>\n",
       "      <th>9125</th>\n",
       "      <td>0</td>\n",
       "      <td>70</td>\n",
       "      <td>0</td>\n",
       "      <td>1.0</td>\n",
       "      <td>3</td>\n",
       "    </tr>\n",
       "    <tr>\n",
       "      <th>9126</th>\n",
       "      <td>0</td>\n",
       "      <td>50</td>\n",
       "      <td>1</td>\n",
       "      <td>1.0</td>\n",
       "      <td>3</td>\n",
       "    </tr>\n",
       "    <tr>\n",
       "      <th>9127</th>\n",
       "      <td>1</td>\n",
       "      <td>30</td>\n",
       "      <td>1</td>\n",
       "      <td>0.0</td>\n",
       "      <td>2</td>\n",
       "    </tr>\n",
       "    <tr>\n",
       "      <th>9128</th>\n",
       "      <td>0</td>\n",
       "      <td>50</td>\n",
       "      <td>1</td>\n",
       "      <td>0.0</td>\n",
       "      <td>2</td>\n",
       "    </tr>\n",
       "    <tr>\n",
       "      <th>9129</th>\n",
       "      <td>0</td>\n",
       "      <td>50</td>\n",
       "      <td>1</td>\n",
       "      <td>0.0</td>\n",
       "      <td>2</td>\n",
       "    </tr>\n",
       "  </tbody>\n",
       "</table>\n",
       "<p>9130 rows × 5 columns</p>\n",
       "</div>"
      ],
      "text/plain": [
       "      요일  연령대  주간야간  피해운전자 성별  피해운전자 상해정도\n",
       "0      0   50     1       0.0           2\n",
       "1      0   70     1       0.0           4\n",
       "2      0   50     1       0.0           3\n",
       "3      0   60     0       0.0           3\n",
       "4      0   80     0       0.0           2\n",
       "...   ..  ...   ...       ...         ...\n",
       "9125   0   70     0       1.0           3\n",
       "9126   0   50     1       1.0           3\n",
       "9127   1   30     1       0.0           2\n",
       "9128   0   50     1       0.0           2\n",
       "9129   0   50     1       0.0           2\n",
       "\n",
       "[9130 rows x 5 columns]"
      ]
     },
     "execution_count": 78,
     "metadata": {},
     "output_type": "execute_result"
    }
   ],
   "source": [
    "data_set1=data_set[[\"요일\",\"연령대\",\"주간야간\",\"피해운전자 성별\",\"피해운전자 상해정도\"]]\n",
    "data_set1\n",
    "#다중공산성 제거한 특징 데이터셋 생성"
   ]
  },
  {
   "cell_type": "markdown",
   "id": "64d5572c",
   "metadata": {},
   "source": [
    "# 불균형 해소 \n",
    " 클래스 레이블 확인결과 경상 중상이 가장 많아 학습시 과적합이 발생 할 수 있기 때문에 불균형 해소 실시"
   ]
  },
  {
   "cell_type": "markdown",
   "id": "b4c262d7",
   "metadata": {},
   "source": [
    "오버샘플링"
   ]
  },
  {
   "cell_type": "code",
   "execution_count": 79,
   "id": "84b4ee48",
   "metadata": {
    "ExecuteTime": {
     "end_time": "2022-08-16T05:26:45.788147Z",
     "start_time": "2022-08-16T05:26:45.774193Z"
    }
   },
   "outputs": [],
   "source": [
    "from imblearn.over_sampling import SMOTE\n",
    "from sklearn.model_selection import train_test_split\n",
    "#SMOTE 오버샘플링이 한 기법으로 낮은 비율로 존재하는 클래스의 데이터를 최근접 이웃 알고리즘을\n",
    "#활용하여 새롭게 생성하는 기법"
   ]
  },
  {
   "cell_type": "code",
   "execution_count": 80,
   "id": "53538c88",
   "metadata": {
    "ExecuteTime": {
     "end_time": "2022-08-16T05:26:45.804094Z",
     "start_time": "2022-08-16T05:26:45.790139Z"
    }
   },
   "outputs": [],
   "source": [
    "X=data_set1.drop(\"피해운전자 상해정도\",axis=1)\n",
    "y=data_set1[\"피해운전자 상해정도\"]"
   ]
  },
  {
   "cell_type": "code",
   "execution_count": 81,
   "id": "5d5282de",
   "metadata": {
    "ExecuteTime": {
     "end_time": "2022-08-16T05:26:45.820039Z",
     "start_time": "2022-08-16T05:26:45.806088Z"
    }
   },
   "outputs": [],
   "source": [
    "X1=data_set.drop(\"피해운전자 상해정도\",axis=1)\n",
    "y1=data_set1[\"피해운전자 상해정도\"]"
   ]
  },
  {
   "cell_type": "code",
   "execution_count": 82,
   "id": "540ca197",
   "metadata": {
    "ExecuteTime": {
     "end_time": "2022-08-16T05:26:45.834989Z",
     "start_time": "2022-08-16T05:26:45.821036Z"
    }
   },
   "outputs": [],
   "source": [
    "X_train,X_test,y_train,y_test=train_test_split(X,y,test_size=0.2,train_size=0.8,random_state=1)"
   ]
  },
  {
   "cell_type": "code",
   "execution_count": 83,
   "id": "e0e4dcfe",
   "metadata": {
    "ExecuteTime": {
     "end_time": "2022-08-16T05:26:45.850937Z",
     "start_time": "2022-08-16T05:26:45.835987Z"
    }
   },
   "outputs": [],
   "source": [
    "X1_train,X1_test,y1_train,y1_test=train_test_split(X1,y1,test_size=0.2,train_size=0.8,random_state=1)"
   ]
  },
  {
   "cell_type": "code",
   "execution_count": 84,
   "id": "0fdb2d22",
   "metadata": {
    "ExecuteTime": {
     "end_time": "2022-08-16T05:26:45.898776Z",
     "start_time": "2022-08-16T05:26:45.851933Z"
    }
   },
   "outputs": [],
   "source": [
    "smote=SMOTE(random_state=42)\n",
    "X_smote,y_smote=smote.fit_resample(X_train,y_train)"
   ]
  },
  {
   "cell_type": "code",
   "execution_count": 85,
   "id": "891e08b8",
   "metadata": {
    "ExecuteTime": {
     "end_time": "2022-08-16T05:26:46.041308Z",
     "start_time": "2022-08-16T05:26:45.899773Z"
    }
   },
   "outputs": [],
   "source": [
    "smote=SMOTE(random_state=42)\n",
    "X_smote1,y_smote1=smote.fit_resample(X1_train,y1_train)"
   ]
  },
  {
   "cell_type": "markdown",
   "id": "cd978140",
   "metadata": {},
   "source": [
    "# 디시젼트리"
   ]
  },
  {
   "cell_type": "code",
   "execution_count": 86,
   "id": "9fc345be",
   "metadata": {
    "ExecuteTime": {
     "end_time": "2022-08-16T05:26:46.057247Z",
     "start_time": "2022-08-16T05:26:46.042297Z"
    }
   },
   "outputs": [],
   "source": [
    "\n",
    "from sklearn.tree import DecisionTreeClassifier\n",
    "from sklearn.model_selection import GridSearchCV"
   ]
  },
  {
   "cell_type": "markdown",
   "id": "cc310058",
   "metadata": {},
   "source": [
    "결정 트리(Decision Tree, 의사결정트리, 의사결정나무라고도 함)는 분류(Classification)와 회귀(Regression) 모두 가능한 지도 학습 모델 중 하나입니다. 결정 트리는 스무고개 하듯이 예/아니오 질문을 이어가며 학습합니다."
   ]
  },
  {
   "cell_type": "code",
   "execution_count": 87,
   "id": "fe5f8b66",
   "metadata": {
    "ExecuteTime": {
     "end_time": "2022-08-16T05:26:46.072201Z",
     "start_time": "2022-08-16T05:26:46.059241Z"
    }
   },
   "outputs": [],
   "source": [
    "classifier=DecisionTreeClassifier(max_depth=10,splitter='best',min_samples_split=3)"
   ]
  },
  {
   "cell_type": "code",
   "execution_count": 88,
   "id": "58e30be3",
   "metadata": {
    "ExecuteTime": {
     "end_time": "2022-08-16T05:26:58.419741Z",
     "start_time": "2022-08-16T05:26:58.406850Z"
    }
   },
   "outputs": [
    {
     "data": {
      "text/html": [
       "<style>#sk-container-id-5 {color: black;background-color: white;}#sk-container-id-5 pre{padding: 0;}#sk-container-id-5 div.sk-toggleable {background-color: white;}#sk-container-id-5 label.sk-toggleable__label {cursor: pointer;display: block;width: 100%;margin-bottom: 0;padding: 0.3em;box-sizing: border-box;text-align: center;}#sk-container-id-5 label.sk-toggleable__label-arrow:before {content: \"▸\";float: left;margin-right: 0.25em;color: #696969;}#sk-container-id-5 label.sk-toggleable__label-arrow:hover:before {color: black;}#sk-container-id-5 div.sk-estimator:hover label.sk-toggleable__label-arrow:before {color: black;}#sk-container-id-5 div.sk-toggleable__content {max-height: 0;max-width: 0;overflow: hidden;text-align: left;background-color: #f0f8ff;}#sk-container-id-5 div.sk-toggleable__content pre {margin: 0.2em;color: black;border-radius: 0.25em;background-color: #f0f8ff;}#sk-container-id-5 input.sk-toggleable__control:checked~div.sk-toggleable__content {max-height: 200px;max-width: 100%;overflow: auto;}#sk-container-id-5 input.sk-toggleable__control:checked~label.sk-toggleable__label-arrow:before {content: \"▾\";}#sk-container-id-5 div.sk-estimator input.sk-toggleable__control:checked~label.sk-toggleable__label {background-color: #d4ebff;}#sk-container-id-5 div.sk-label input.sk-toggleable__control:checked~label.sk-toggleable__label {background-color: #d4ebff;}#sk-container-id-5 input.sk-hidden--visually {border: 0;clip: rect(1px 1px 1px 1px);clip: rect(1px, 1px, 1px, 1px);height: 1px;margin: -1px;overflow: hidden;padding: 0;position: absolute;width: 1px;}#sk-container-id-5 div.sk-estimator {font-family: monospace;background-color: #f0f8ff;border: 1px dotted black;border-radius: 0.25em;box-sizing: border-box;margin-bottom: 0.5em;}#sk-container-id-5 div.sk-estimator:hover {background-color: #d4ebff;}#sk-container-id-5 div.sk-parallel-item::after {content: \"\";width: 100%;border-bottom: 1px solid gray;flex-grow: 1;}#sk-container-id-5 div.sk-label:hover label.sk-toggleable__label {background-color: #d4ebff;}#sk-container-id-5 div.sk-serial::before {content: \"\";position: absolute;border-left: 1px solid gray;box-sizing: border-box;top: 0;bottom: 0;left: 50%;z-index: 0;}#sk-container-id-5 div.sk-serial {display: flex;flex-direction: column;align-items: center;background-color: white;padding-right: 0.2em;padding-left: 0.2em;position: relative;}#sk-container-id-5 div.sk-item {position: relative;z-index: 1;}#sk-container-id-5 div.sk-parallel {display: flex;align-items: stretch;justify-content: center;background-color: white;position: relative;}#sk-container-id-5 div.sk-item::before, #sk-container-id-5 div.sk-parallel-item::before {content: \"\";position: absolute;border-left: 1px solid gray;box-sizing: border-box;top: 0;bottom: 0;left: 50%;z-index: -1;}#sk-container-id-5 div.sk-parallel-item {display: flex;flex-direction: column;z-index: 1;position: relative;background-color: white;}#sk-container-id-5 div.sk-parallel-item:first-child::after {align-self: flex-end;width: 50%;}#sk-container-id-5 div.sk-parallel-item:last-child::after {align-self: flex-start;width: 50%;}#sk-container-id-5 div.sk-parallel-item:only-child::after {width: 0;}#sk-container-id-5 div.sk-dashed-wrapped {border: 1px dashed gray;margin: 0 0.4em 0.5em 0.4em;box-sizing: border-box;padding-bottom: 0.4em;background-color: white;}#sk-container-id-5 div.sk-label label {font-family: monospace;font-weight: bold;display: inline-block;line-height: 1.2em;}#sk-container-id-5 div.sk-label-container {text-align: center;}#sk-container-id-5 div.sk-container {/* jupyter's `normalize.less` sets `[hidden] { display: none; }` but bootstrap.min.css set `[hidden] { display: none !important; }` so we also need the `!important` here to be able to override the default hidden behavior on the sphinx rendered scikit-learn.org. See: https://github.com/scikit-learn/scikit-learn/issues/21755 */display: inline-block !important;position: relative;}#sk-container-id-5 div.sk-text-repr-fallback {display: none;}</style><div id=\"sk-container-id-5\" class=\"sk-top-container\"><div class=\"sk-text-repr-fallback\"><pre>DecisionTreeClassifier(max_depth=10, min_samples_split=3)</pre><b>In a Jupyter environment, please rerun this cell to show the HTML representation or trust the notebook. <br />On GitHub, the HTML representation is unable to render, please try loading this page with nbviewer.org.</b></div><div class=\"sk-container\" hidden><div class=\"sk-item\"><div class=\"sk-estimator sk-toggleable\"><input class=\"sk-toggleable__control sk-hidden--visually\" id=\"sk-estimator-id-5\" type=\"checkbox\" checked><label for=\"sk-estimator-id-5\" class=\"sk-toggleable__label sk-toggleable__label-arrow\">DecisionTreeClassifier</label><div class=\"sk-toggleable__content\"><pre>DecisionTreeClassifier(max_depth=10, min_samples_split=3)</pre></div></div></div></div></div>"
      ],
      "text/plain": [
       "DecisionTreeClassifier(max_depth=10, min_samples_split=3)"
      ]
     },
     "execution_count": 88,
     "metadata": {},
     "output_type": "execute_result"
    }
   ],
   "source": [
    "classifier.fit(X_smote,y_smote)"
   ]
  },
  {
   "cell_type": "code",
   "execution_count": 89,
   "id": "07a2161a",
   "metadata": {
    "ExecuteTime": {
     "end_time": "2022-08-16T05:26:59.091265Z",
     "start_time": "2022-08-16T05:26:59.075858Z"
    }
   },
   "outputs": [],
   "source": [
    "pred=classifier.predict(X_test)"
   ]
  },
  {
   "cell_type": "code",
   "execution_count": 90,
   "id": "6a935ebf",
   "metadata": {
    "ExecuteTime": {
     "end_time": "2022-08-16T05:27:00.221886Z",
     "start_time": "2022-08-16T05:27:00.213713Z"
    }
   },
   "outputs": [
    {
     "name": "stdout",
     "output_type": "stream",
     "text": [
      "0.26013143483023\n"
     ]
    }
   ],
   "source": [
    "from sklearn.metrics import accuracy_score\n",
    "print(accuracy_score(y_test,pred))"
   ]
  },
  {
   "cell_type": "code",
   "execution_count": 91,
   "id": "9c2a14c1",
   "metadata": {
    "ExecuteTime": {
     "end_time": "2022-08-16T05:27:16.552368Z",
     "start_time": "2022-08-16T05:27:16.509978Z"
    }
   },
   "outputs": [
    {
     "data": {
      "text/html": [
       "<style>#sk-container-id-6 {color: black;background-color: white;}#sk-container-id-6 pre{padding: 0;}#sk-container-id-6 div.sk-toggleable {background-color: white;}#sk-container-id-6 label.sk-toggleable__label {cursor: pointer;display: block;width: 100%;margin-bottom: 0;padding: 0.3em;box-sizing: border-box;text-align: center;}#sk-container-id-6 label.sk-toggleable__label-arrow:before {content: \"▸\";float: left;margin-right: 0.25em;color: #696969;}#sk-container-id-6 label.sk-toggleable__label-arrow:hover:before {color: black;}#sk-container-id-6 div.sk-estimator:hover label.sk-toggleable__label-arrow:before {color: black;}#sk-container-id-6 div.sk-toggleable__content {max-height: 0;max-width: 0;overflow: hidden;text-align: left;background-color: #f0f8ff;}#sk-container-id-6 div.sk-toggleable__content pre {margin: 0.2em;color: black;border-radius: 0.25em;background-color: #f0f8ff;}#sk-container-id-6 input.sk-toggleable__control:checked~div.sk-toggleable__content {max-height: 200px;max-width: 100%;overflow: auto;}#sk-container-id-6 input.sk-toggleable__control:checked~label.sk-toggleable__label-arrow:before {content: \"▾\";}#sk-container-id-6 div.sk-estimator input.sk-toggleable__control:checked~label.sk-toggleable__label {background-color: #d4ebff;}#sk-container-id-6 div.sk-label input.sk-toggleable__control:checked~label.sk-toggleable__label {background-color: #d4ebff;}#sk-container-id-6 input.sk-hidden--visually {border: 0;clip: rect(1px 1px 1px 1px);clip: rect(1px, 1px, 1px, 1px);height: 1px;margin: -1px;overflow: hidden;padding: 0;position: absolute;width: 1px;}#sk-container-id-6 div.sk-estimator {font-family: monospace;background-color: #f0f8ff;border: 1px dotted black;border-radius: 0.25em;box-sizing: border-box;margin-bottom: 0.5em;}#sk-container-id-6 div.sk-estimator:hover {background-color: #d4ebff;}#sk-container-id-6 div.sk-parallel-item::after {content: \"\";width: 100%;border-bottom: 1px solid gray;flex-grow: 1;}#sk-container-id-6 div.sk-label:hover label.sk-toggleable__label {background-color: #d4ebff;}#sk-container-id-6 div.sk-serial::before {content: \"\";position: absolute;border-left: 1px solid gray;box-sizing: border-box;top: 0;bottom: 0;left: 50%;z-index: 0;}#sk-container-id-6 div.sk-serial {display: flex;flex-direction: column;align-items: center;background-color: white;padding-right: 0.2em;padding-left: 0.2em;position: relative;}#sk-container-id-6 div.sk-item {position: relative;z-index: 1;}#sk-container-id-6 div.sk-parallel {display: flex;align-items: stretch;justify-content: center;background-color: white;position: relative;}#sk-container-id-6 div.sk-item::before, #sk-container-id-6 div.sk-parallel-item::before {content: \"\";position: absolute;border-left: 1px solid gray;box-sizing: border-box;top: 0;bottom: 0;left: 50%;z-index: -1;}#sk-container-id-6 div.sk-parallel-item {display: flex;flex-direction: column;z-index: 1;position: relative;background-color: white;}#sk-container-id-6 div.sk-parallel-item:first-child::after {align-self: flex-end;width: 50%;}#sk-container-id-6 div.sk-parallel-item:last-child::after {align-self: flex-start;width: 50%;}#sk-container-id-6 div.sk-parallel-item:only-child::after {width: 0;}#sk-container-id-6 div.sk-dashed-wrapped {border: 1px dashed gray;margin: 0 0.4em 0.5em 0.4em;box-sizing: border-box;padding-bottom: 0.4em;background-color: white;}#sk-container-id-6 div.sk-label label {font-family: monospace;font-weight: bold;display: inline-block;line-height: 1.2em;}#sk-container-id-6 div.sk-label-container {text-align: center;}#sk-container-id-6 div.sk-container {/* jupyter's `normalize.less` sets `[hidden] { display: none; }` but bootstrap.min.css set `[hidden] { display: none !important; }` so we also need the `!important` here to be able to override the default hidden behavior on the sphinx rendered scikit-learn.org. See: https://github.com/scikit-learn/scikit-learn/issues/21755 */display: inline-block !important;position: relative;}#sk-container-id-6 div.sk-text-repr-fallback {display: none;}</style><div id=\"sk-container-id-6\" class=\"sk-top-container\"><div class=\"sk-text-repr-fallback\"><pre>DecisionTreeClassifier(max_depth=10, min_samples_split=3)</pre><b>In a Jupyter environment, please rerun this cell to show the HTML representation or trust the notebook. <br />On GitHub, the HTML representation is unable to render, please try loading this page with nbviewer.org.</b></div><div class=\"sk-container\" hidden><div class=\"sk-item\"><div class=\"sk-estimator sk-toggleable\"><input class=\"sk-toggleable__control sk-hidden--visually\" id=\"sk-estimator-id-6\" type=\"checkbox\" checked><label for=\"sk-estimator-id-6\" class=\"sk-toggleable__label sk-toggleable__label-arrow\">DecisionTreeClassifier</label><div class=\"sk-toggleable__content\"><pre>DecisionTreeClassifier(max_depth=10, min_samples_split=3)</pre></div></div></div></div></div>"
      ],
      "text/plain": [
       "DecisionTreeClassifier(max_depth=10, min_samples_split=3)"
      ]
     },
     "execution_count": 91,
     "metadata": {},
     "output_type": "execute_result"
    }
   ],
   "source": [
    "classifier.fit(X_smote1,y_smote1)"
   ]
  },
  {
   "cell_type": "code",
   "execution_count": 92,
   "id": "842caa64",
   "metadata": {
    "ExecuteTime": {
     "end_time": "2022-08-16T05:27:17.335988Z",
     "start_time": "2022-08-16T05:27:17.315379Z"
    }
   },
   "outputs": [
    {
     "name": "stdout",
     "output_type": "stream",
     "text": [
      "0.3833515881708653\n"
     ]
    }
   ],
   "source": [
    "pred=classifier.predict(X1_test)\n",
    "from sklearn.metrics import accuracy_score\n",
    "print(accuracy_score(y1_test,pred))"
   ]
  },
  {
   "cell_type": "code",
   "execution_count": 93,
   "id": "8d7e006d",
   "metadata": {
    "ExecuteTime": {
     "end_time": "2022-08-16T05:27:18.271312Z",
     "start_time": "2022-08-16T05:27:18.255021Z"
    }
   },
   "outputs": [],
   "source": [
    "from sklearn.metrics import *"
   ]
  },
  {
   "cell_type": "code",
   "execution_count": 94,
   "id": "aaf70f8f",
   "metadata": {
    "ExecuteTime": {
     "end_time": "2022-08-16T05:27:18.906537Z",
     "start_time": "2022-08-16T05:27:18.896573Z"
    }
   },
   "outputs": [
    {
     "name": "stdout",
     "output_type": "stream",
     "text": [
      "[[  2   1   0   3   1]\n",
      " [  0  29  21  22   9]\n",
      " [ 10 103 251 174  51]\n",
      " [  8 247 271 388 139]\n",
      " [  0  15  15  36  30]]\n",
      "정밀도: 0.5147, 재현율: 0.3834\n"
     ]
    }
   ],
   "source": [
    "print(confusion_matrix(y1_test, pred))\n",
    "precision = precision_score(y1_test, pred,average= \"weighted\")\n",
    "recall = recall_score(y1_test, pred,average= \"weighted\")\n",
    "print('정밀도: {0:.4f}, 재현율: {1:.4f}'.format(precision, recall))\n",
    "#모델의 과적합을 확인하기 위해 정밀도 및 재현율 확인"
   ]
  },
  {
   "cell_type": "markdown",
   "id": "c022763b",
   "metadata": {},
   "source": [
    "# 랜덤포레스트"
   ]
  },
  {
   "cell_type": "code",
   "execution_count": 95,
   "id": "28bec1ba",
   "metadata": {
    "ExecuteTime": {
     "end_time": "2022-08-16T05:27:27.567704Z",
     "start_time": "2022-08-16T05:27:27.555407Z"
    }
   },
   "outputs": [],
   "source": [
    "from sklearn.ensemble import RandomForestClassifier"
   ]
  },
  {
   "cell_type": "code",
   "execution_count": 96,
   "id": "7e1ec398",
   "metadata": {
    "ExecuteTime": {
     "end_time": "2022-08-16T05:27:28.357757Z",
     "start_time": "2022-08-16T05:27:28.350134Z"
    }
   },
   "outputs": [
    {
     "data": {
      "text/html": [
       "<style>#sk-container-id-7 {color: black;background-color: white;}#sk-container-id-7 pre{padding: 0;}#sk-container-id-7 div.sk-toggleable {background-color: white;}#sk-container-id-7 label.sk-toggleable__label {cursor: pointer;display: block;width: 100%;margin-bottom: 0;padding: 0.3em;box-sizing: border-box;text-align: center;}#sk-container-id-7 label.sk-toggleable__label-arrow:before {content: \"▸\";float: left;margin-right: 0.25em;color: #696969;}#sk-container-id-7 label.sk-toggleable__label-arrow:hover:before {color: black;}#sk-container-id-7 div.sk-estimator:hover label.sk-toggleable__label-arrow:before {color: black;}#sk-container-id-7 div.sk-toggleable__content {max-height: 0;max-width: 0;overflow: hidden;text-align: left;background-color: #f0f8ff;}#sk-container-id-7 div.sk-toggleable__content pre {margin: 0.2em;color: black;border-radius: 0.25em;background-color: #f0f8ff;}#sk-container-id-7 input.sk-toggleable__control:checked~div.sk-toggleable__content {max-height: 200px;max-width: 100%;overflow: auto;}#sk-container-id-7 input.sk-toggleable__control:checked~label.sk-toggleable__label-arrow:before {content: \"▾\";}#sk-container-id-7 div.sk-estimator input.sk-toggleable__control:checked~label.sk-toggleable__label {background-color: #d4ebff;}#sk-container-id-7 div.sk-label input.sk-toggleable__control:checked~label.sk-toggleable__label {background-color: #d4ebff;}#sk-container-id-7 input.sk-hidden--visually {border: 0;clip: rect(1px 1px 1px 1px);clip: rect(1px, 1px, 1px, 1px);height: 1px;margin: -1px;overflow: hidden;padding: 0;position: absolute;width: 1px;}#sk-container-id-7 div.sk-estimator {font-family: monospace;background-color: #f0f8ff;border: 1px dotted black;border-radius: 0.25em;box-sizing: border-box;margin-bottom: 0.5em;}#sk-container-id-7 div.sk-estimator:hover {background-color: #d4ebff;}#sk-container-id-7 div.sk-parallel-item::after {content: \"\";width: 100%;border-bottom: 1px solid gray;flex-grow: 1;}#sk-container-id-7 div.sk-label:hover label.sk-toggleable__label {background-color: #d4ebff;}#sk-container-id-7 div.sk-serial::before {content: \"\";position: absolute;border-left: 1px solid gray;box-sizing: border-box;top: 0;bottom: 0;left: 50%;z-index: 0;}#sk-container-id-7 div.sk-serial {display: flex;flex-direction: column;align-items: center;background-color: white;padding-right: 0.2em;padding-left: 0.2em;position: relative;}#sk-container-id-7 div.sk-item {position: relative;z-index: 1;}#sk-container-id-7 div.sk-parallel {display: flex;align-items: stretch;justify-content: center;background-color: white;position: relative;}#sk-container-id-7 div.sk-item::before, #sk-container-id-7 div.sk-parallel-item::before {content: \"\";position: absolute;border-left: 1px solid gray;box-sizing: border-box;top: 0;bottom: 0;left: 50%;z-index: -1;}#sk-container-id-7 div.sk-parallel-item {display: flex;flex-direction: column;z-index: 1;position: relative;background-color: white;}#sk-container-id-7 div.sk-parallel-item:first-child::after {align-self: flex-end;width: 50%;}#sk-container-id-7 div.sk-parallel-item:last-child::after {align-self: flex-start;width: 50%;}#sk-container-id-7 div.sk-parallel-item:only-child::after {width: 0;}#sk-container-id-7 div.sk-dashed-wrapped {border: 1px dashed gray;margin: 0 0.4em 0.5em 0.4em;box-sizing: border-box;padding-bottom: 0.4em;background-color: white;}#sk-container-id-7 div.sk-label label {font-family: monospace;font-weight: bold;display: inline-block;line-height: 1.2em;}#sk-container-id-7 div.sk-label-container {text-align: center;}#sk-container-id-7 div.sk-container {/* jupyter's `normalize.less` sets `[hidden] { display: none; }` but bootstrap.min.css set `[hidden] { display: none !important; }` so we also need the `!important` here to be able to override the default hidden behavior on the sphinx rendered scikit-learn.org. See: https://github.com/scikit-learn/scikit-learn/issues/21755 */display: inline-block !important;position: relative;}#sk-container-id-7 div.sk-text-repr-fallback {display: none;}</style><div id=\"sk-container-id-7\" class=\"sk-top-container\"><div class=\"sk-text-repr-fallback\"><pre>RandomForestClassifier()</pre><b>In a Jupyter environment, please rerun this cell to show the HTML representation or trust the notebook. <br />On GitHub, the HTML representation is unable to render, please try loading this page with nbviewer.org.</b></div><div class=\"sk-container\" hidden><div class=\"sk-item\"><div class=\"sk-estimator sk-toggleable\"><input class=\"sk-toggleable__control sk-hidden--visually\" id=\"sk-estimator-id-7\" type=\"checkbox\" checked><label for=\"sk-estimator-id-7\" class=\"sk-toggleable__label sk-toggleable__label-arrow\">RandomForestClassifier</label><div class=\"sk-toggleable__content\"><pre>RandomForestClassifier()</pre></div></div></div></div></div>"
      ],
      "text/plain": [
       "RandomForestClassifier()"
      ]
     },
     "execution_count": 96,
     "metadata": {},
     "output_type": "execute_result"
    }
   ],
   "source": [
    "RandomForestClassifier()"
   ]
  },
  {
   "cell_type": "markdown",
   "id": "fa43543e",
   "metadata": {},
   "source": [
    "랜덤포레스트는 지도머신러닝 알고리즘으로 정확성 단순성 유연성 인해 가장 많이 사용되는 알고리즘 중 하나입니다. 분류 및 회귀작업에 사용되어있고 비선형 특성을 결합할시 다양한 데이터 및 상황에 적합합니다"
   ]
  },
  {
   "cell_type": "code",
   "execution_count": 97,
   "id": "c4dd3b5a",
   "metadata": {
    "ExecuteTime": {
     "end_time": "2022-08-16T05:27:31.134139Z",
     "start_time": "2022-08-16T05:27:29.758188Z"
    },
    "scrolled": false
   },
   "outputs": [
    {
     "name": "stdout",
     "output_type": "stream",
     "text": [
      "0.2617743702081051\n"
     ]
    }
   ],
   "source": [
    "rf=RandomForestClassifier(n_estimators=500,max_features='sqrt',n_jobs=-1,max_depth=50,criterion='entropy')\n",
    "rf.fit(X_smote,y_smote)\n",
    "pred1=rf.predict(X_test)\n",
    "print(accuracy_score(y_test,pred1))#모델 호출및 학습 과 예측 점수확인"
   ]
  },
  {
   "cell_type": "code",
   "execution_count": 98,
   "id": "e6cd6bc3",
   "metadata": {
    "ExecuteTime": {
     "end_time": "2022-08-16T05:27:33.750546Z",
     "start_time": "2022-08-16T05:27:33.052265Z"
    }
   },
   "outputs": [
    {
     "name": "stdout",
     "output_type": "stream",
     "text": [
      "0.46276013143483025\n"
     ]
    }
   ],
   "source": [
    "model = RandomForestClassifier()\n",
    "model.fit(X_smote1,y_smote1)\n",
    "pred1=model.predict(X1_test)\n",
    "print(accuracy_score(y1_test,pred1))# #모델 호출및 학습 과 예측 점수확인"
   ]
  },
  {
   "cell_type": "markdown",
   "id": "db955893",
   "metadata": {},
   "source": [
    "특성 중요도 종속변수에 미치는 독립변수(피처)의 영향력을 알아보기 위해 확인\n",
    "값이 높을수록 종속변수에 큰 영향을 미친다"
   ]
  },
  {
   "cell_type": "code",
   "execution_count": 99,
   "id": "ab035341",
   "metadata": {
    "ExecuteTime": {
     "end_time": "2022-08-16T05:27:36.688046Z",
     "start_time": "2022-08-16T05:27:36.579597Z"
    }
   },
   "outputs": [
    {
     "data": {
      "image/png": "[encoded data removed]",
      "text/plain": [
       "<Figure size 432x288 with 1 Axes>"
      ]
     },
     "metadata": {
      "needs_background": "light"
     },
     "output_type": "display_data"
    }
   ],
   "source": [
    "def plot_feature_importance(model):\n",
    "    n_features = X_train.shape[1]\n",
    "    plt.barh(np.arange(n_features), sorted(model.feature_importances_), align=\"center\")\n",
    "    plt.yticks(np.arange(n_features), X_train.columns)\n",
    "    plt.xlabel(\"Random Forest Feature Importance\")\n",
    "    plt.ylabel(\"Feature\")\n",
    "    plt.ylim(-1, n_features)\n",
    "    \n",
    "plot_feature_importance(rf)"
   ]
  },
  {
   "cell_type": "code",
   "execution_count": 100,
   "id": "45b1ffa8",
   "metadata": {
    "ExecuteTime": {
     "end_time": "2022-08-16T05:27:37.390978Z",
     "start_time": "2022-08-16T05:27:37.367967Z"
    }
   },
   "outputs": [],
   "source": [
    "importances=model.feature_importances_\n",
    "indices=np.argsort(importances)[::-1]"
   ]
  },
  {
   "cell_type": "code",
   "execution_count": 101,
   "id": "de059a3e",
   "metadata": {
    "ExecuteTime": {
     "end_time": "2022-08-16T05:27:38.390066Z",
     "start_time": "2022-08-16T05:27:38.070043Z"
    },
    "scrolled": true
   },
   "outputs": [
    {
     "data": {
      "image/png": "[encoded data removed]",
      "text/plain": [
       "<Figure size 432x288 with 1 Axes>"
      ]
     },
     "metadata": {
      "needs_background": "light"
     },
     "output_type": "display_data"
    }
   ],
   "source": [
    "def plot_feature_importance(model):\n",
    "    n_features = X1_train.shape[1]\n",
    "    plt.barh(np.arange(n_features), sorted(model.feature_importances_), align=\"center\")\n",
    "    plt.yticks(np.arange(n_features), X1_train.columns)\n",
    "    plt.xlabel(\"Random Forest Feature Importance\")\n",
    "    plt.ylabel(\"Feature\")\n",
    "    plt.ylim(-1, n_features)\n",
    "    \n",
    "plot_feature_importance(model)"
   ]
  },
  {
   "cell_type": "code",
   "execution_count": 102,
   "id": "d860d1d8",
   "metadata": {
    "ExecuteTime": {
     "end_time": "2022-08-16T05:27:39.725921Z",
     "start_time": "2022-08-16T05:27:39.704332Z"
    }
   },
   "outputs": [
    {
     "name": "stdout",
     "output_type": "stream",
     "text": [
      "[[  2   0   1   3   1]\n",
      " [  0  26  23  25   7]\n",
      " [  4  59 270 219  37]\n",
      " [  6 145 292 519  91]\n",
      " [  0   9  14  45  28]]\n",
      "정밀도: 0.5286, 재현율: 0.4628\n"
     ]
    }
   ],
   "source": [
    "print(confusion_matrix(y1_test, pred1))\n",
    "precision = precision_score(y1_test, pred1,average= \"weighted\")\n",
    "recall = recall_score(y1_test, pred1,average= \"weighted\")\n",
    "print('정밀도: {0:.4f}, 재현율: {1:.4f}'.format(precision, recall))\n",
    "#모델의 과적합을 확인하기 위해 정밀도 및 재현율 확인"
   ]
  },
  {
   "cell_type": "markdown",
   "id": "288f8d17",
   "metadata": {
    "ExecuteTime": {
     "end_time": "2022-08-09T05:34:17.456893Z",
     "start_time": "2022-08-09T05:34:17.444899Z"
    }
   },
   "source": [
    "# LightBGM"
   ]
  },
  {
   "cell_type": "markdown",
   "id": "c905ed9e",
   "metadata": {},
   "source": [
    "Light GBM은 Tree가 수직적으로 확장됩니다. 즉 Light GBM은 leaf-wise 인 반면 다른 알확장하기 위해서 max delta loss를 가진 leaf를 선택하게 되는 것이죠. 동일한 leaf를 확장할 때, leaf-wise 알고리즘은 level-wise 알고리즘보다 더 많은 loss, 손실을 줄일 수 있습니다."
   ]
  },
  {
   "cell_type": "code",
   "execution_count": 103,
   "id": "99f0e8c5",
   "metadata": {
    "ExecuteTime": {
     "end_time": "2022-08-16T05:27:42.019265Z",
     "start_time": "2022-08-16T05:27:41.652552Z"
    }
   },
   "outputs": [
    {
     "name": "stdout",
     "output_type": "stream",
     "text": [
      "0.26013143483023\n"
     ]
    }
   ],
   "source": [
    "import lightgbm\n",
    "lig=lightgbm.LGBMClassifier()\n",
    "lig.fit(X_smote,y_smote)\n",
    "pred2=lig.predict(X_test)\n",
    "print(accuracy_score(y_test,pred2))#모델 학습및 점수확인"
   ]
  },
  {
   "cell_type": "code",
   "execution_count": 104,
   "id": "4726e973",
   "metadata": {
    "ExecuteTime": {
     "end_time": "2022-08-16T05:27:43.815914Z",
     "start_time": "2022-08-16T05:27:43.402364Z"
    }
   },
   "outputs": [
    {
     "name": "stdout",
     "output_type": "stream",
     "text": [
      "0.45618838992332966\n"
     ]
    }
   ],
   "source": [
    "lig=lightgbm.LGBMClassifier()\n",
    "lig.fit(X_smote1,y_smote1)\n",
    "pred2=lig.predict(X1_test)\n",
    "print(accuracy_score(y1_test,pred2))#모델 학습및 점수확인"
   ]
  },
  {
   "cell_type": "code",
   "execution_count": 105,
   "id": "522afe9a",
   "metadata": {
    "ExecuteTime": {
     "end_time": "2022-08-16T05:27:44.960103Z",
     "start_time": "2022-08-16T05:27:44.953498Z"
    }
   },
   "outputs": [],
   "source": [
    "lig1=lightgbm.LGBMClassifier(n_estimators=2000,learing_rate=0.1,max_depth=-1)\n",
    "#반복2000번 학습률 0.1 최대깊이는 모델이 최적값을 선정"
   ]
  },
  {
   "cell_type": "code",
   "execution_count": 106,
   "id": "33b4d882",
   "metadata": {
    "ExecuteTime": {
     "end_time": "2022-08-16T05:27:51.702359Z",
     "start_time": "2022-08-16T05:27:45.561951Z"
    },
    "scrolled": true
   },
   "outputs": [
    {
     "name": "stdout",
     "output_type": "stream",
     "text": [
      "[LightGBM] [Warning] Unknown parameter: learing_rate\n"
     ]
    },
    {
     "data": {
      "text/html": [
       "<style>#sk-container-id-8 {color: black;background-color: white;}#sk-container-id-8 pre{padding: 0;}#sk-container-id-8 div.sk-toggleable {background-color: white;}#sk-container-id-8 label.sk-toggleable__label {cursor: pointer;display: block;width: 100%;margin-bottom: 0;padding: 0.3em;box-sizing: border-box;text-align: center;}#sk-container-id-8 label.sk-toggleable__label-arrow:before {content: \"▸\";float: left;margin-right: 0.25em;color: #696969;}#sk-container-id-8 label.sk-toggleable__label-arrow:hover:before {color: black;}#sk-container-id-8 div.sk-estimator:hover label.sk-toggleable__label-arrow:before {color: black;}#sk-container-id-8 div.sk-toggleable__content {max-height: 0;max-width: 0;overflow: hidden;text-align: left;background-color: #f0f8ff;}#sk-container-id-8 div.sk-toggleable__content pre {margin: 0.2em;color: black;border-radius: 0.25em;background-color: #f0f8ff;}#sk-container-id-8 input.sk-toggleable__control:checked~div.sk-toggleable__content {max-height: 200px;max-width: 100%;overflow: auto;}#sk-container-id-8 input.sk-toggleable__control:checked~label.sk-toggleable__label-arrow:before {content: \"▾\";}#sk-container-id-8 div.sk-estimator input.sk-toggleable__control:checked~label.sk-toggleable__label {background-color: #d4ebff;}#sk-container-id-8 div.sk-label input.sk-toggleable__control:checked~label.sk-toggleable__label {background-color: #d4ebff;}#sk-container-id-8 input.sk-hidden--visually {border: 0;clip: rect(1px 1px 1px 1px);clip: rect(1px, 1px, 1px, 1px);height: 1px;margin: -1px;overflow: hidden;padding: 0;position: absolute;width: 1px;}#sk-container-id-8 div.sk-estimator {font-family: monospace;background-color: #f0f8ff;border: 1px dotted black;border-radius: 0.25em;box-sizing: border-box;margin-bottom: 0.5em;}#sk-container-id-8 div.sk-estimator:hover {background-color: #d4ebff;}#sk-container-id-8 div.sk-parallel-item::after {content: \"\";width: 100%;border-bottom: 1px solid gray;flex-grow: 1;}#sk-container-id-8 div.sk-label:hover label.sk-toggleable__label {background-color: #d4ebff;}#sk-container-id-8 div.sk-serial::before {content: \"\";position: absolute;border-left: 1px solid gray;box-sizing: border-box;top: 0;bottom: 0;left: 50%;z-index: 0;}#sk-container-id-8 div.sk-serial {display: flex;flex-direction: column;align-items: center;background-color: white;padding-right: 0.2em;padding-left: 0.2em;position: relative;}#sk-container-id-8 div.sk-item {position: relative;z-index: 1;}#sk-container-id-8 div.sk-parallel {display: flex;align-items: stretch;justify-content: center;background-color: white;position: relative;}#sk-container-id-8 div.sk-item::before, #sk-container-id-8 div.sk-parallel-item::before {content: \"\";position: absolute;border-left: 1px solid gray;box-sizing: border-box;top: 0;bottom: 0;left: 50%;z-index: -1;}#sk-container-id-8 div.sk-parallel-item {display: flex;flex-direction: column;z-index: 1;position: relative;background-color: white;}#sk-container-id-8 div.sk-parallel-item:first-child::after {align-self: flex-end;width: 50%;}#sk-container-id-8 div.sk-parallel-item:last-child::after {align-self: flex-start;width: 50%;}#sk-container-id-8 div.sk-parallel-item:only-child::after {width: 0;}#sk-container-id-8 div.sk-dashed-wrapped {border: 1px dashed gray;margin: 0 0.4em 0.5em 0.4em;box-sizing: border-box;padding-bottom: 0.4em;background-color: white;}#sk-container-id-8 div.sk-label label {font-family: monospace;font-weight: bold;display: inline-block;line-height: 1.2em;}#sk-container-id-8 div.sk-label-container {text-align: center;}#sk-container-id-8 div.sk-container {/* jupyter's `normalize.less` sets `[hidden] { display: none; }` but bootstrap.min.css set `[hidden] { display: none !important; }` so we also need the `!important` here to be able to override the default hidden behavior on the sphinx rendered scikit-learn.org. See: https://github.com/scikit-learn/scikit-learn/issues/21755 */display: inline-block !important;position: relative;}#sk-container-id-8 div.sk-text-repr-fallback {display: none;}</style><div id=\"sk-container-id-8\" class=\"sk-top-container\"><div class=\"sk-text-repr-fallback\"><pre>LGBMClassifier(learing_rate=0.1, n_estimators=2000)</pre><b>In a Jupyter environment, please rerun this cell to show the HTML representation or trust the notebook. <br />On GitHub, the HTML representation is unable to render, please try loading this page with nbviewer.org.</b></div><div class=\"sk-container\" hidden><div class=\"sk-item\"><div class=\"sk-estimator sk-toggleable\"><input class=\"sk-toggleable__control sk-hidden--visually\" id=\"sk-estimator-id-8\" type=\"checkbox\" checked><label for=\"sk-estimator-id-8\" class=\"sk-toggleable__label sk-toggleable__label-arrow\">LGBMClassifier</label><div class=\"sk-toggleable__content\"><pre>LGBMClassifier(learing_rate=0.1, n_estimators=2000)</pre></div></div></div></div></div>"
      ],
      "text/plain": [
       "LGBMClassifier(learing_rate=0.1, n_estimators=2000)"
      ]
     },
     "execution_count": 106,
     "metadata": {},
     "output_type": "execute_result"
    }
   ],
   "source": [
    "lig1.fit(X_smote1,y_smote1)"
   ]
  },
  {
   "cell_type": "code",
   "execution_count": 107,
   "id": "d1245a01",
   "metadata": {
    "ExecuteTime": {
     "end_time": "2022-08-16T05:27:52.157004Z",
     "start_time": "2022-08-16T05:27:51.703757Z"
    }
   },
   "outputs": [],
   "source": [
    "pred3=lig1.predict(X1_test)"
   ]
  },
  {
   "cell_type": "code",
   "execution_count": 108,
   "id": "09bb5b7e",
   "metadata": {
    "ExecuteTime": {
     "end_time": "2022-08-16T05:27:52.188889Z",
     "start_time": "2022-08-16T05:27:52.170949Z"
    },
    "scrolled": false
   },
   "outputs": [
    {
     "name": "stdout",
     "output_type": "stream",
     "text": [
      "0.4539978094194962\n"
     ]
    }
   ],
   "source": [
    "print(accuracy_score(y_test,pred3))"
   ]
  },
  {
   "cell_type": "code",
   "execution_count": 109,
   "id": "4a5fa7f1",
   "metadata": {
    "ExecuteTime": {
     "end_time": "2022-08-16T05:27:52.204835Z",
     "start_time": "2022-08-16T05:27:52.190883Z"
    }
   },
   "outputs": [],
   "source": [
    "from sklearn.metrics import *"
   ]
  },
  {
   "cell_type": "markdown",
   "id": "41ad367b",
   "metadata": {},
   "source": [
    "점수가 높아도 정밀도 재현율이 낮으면 소용없기 때문에 정밀도 재현율 확인한다"
   ]
  },
  {
   "cell_type": "code",
   "execution_count": 111,
   "id": "3324052b",
   "metadata": {
    "ExecuteTime": {
     "end_time": "2022-08-16T05:27:58.796400Z",
     "start_time": "2022-08-16T05:27:58.774697Z"
    }
   },
   "outputs": [
    {
     "name": "stdout",
     "output_type": "stream",
     "text": [
      "[[  2   0   1   3   1]\n",
      " [  0  28  20  26   7]\n",
      " [  4  60 263 225  37]\n",
      " [  6 142 296 509 100]\n",
      " [  0   9  16  44  27]]\n",
      "정밀도: 0.5202, 재현율: 0.4540\n"
     ]
    }
   ],
   "source": [
    "print(confusion_matrix(y1_test, pred3))\n",
    "precision = precision_score(y1_test, pred3,average= \"weighted\")\n",
    "recall = recall_score(y1_test, pred3,average= \"weighted\")\n",
    "print('정밀도: {0:.4f}, 재현율: {1:.4f}'.format(precision, recall))"
   ]
  },
  {
   "cell_type": "markdown",
   "id": "1e9f367e",
   "metadata": {
    "ExecuteTime": {
     "end_time": "2022-08-09T07:44:07.934124Z",
     "start_time": "2022-08-09T07:44:07.917221Z"
    }
   },
   "source": [
    "# XGBOOST"
   ]
  },
  {
   "cell_type": "markdown",
   "id": "27c708b9",
   "metadata": {},
   "source": [
    "알고리즘을 분산환경에서도 실행할 수 있도록 구현해놓은 라이브러리이다. Regression, Classification 문제를 모두 지원하며, 성능과 자원 효율이 좋아서, 인기 있게 사용되는 알고리즘이고 여러개의 결정트리를 조합해서 사용하는 앙상블 알고리즘입니다"
   ]
  },
  {
   "cell_type": "code",
   "execution_count": 165,
   "id": "8c46518d",
   "metadata": {
    "ExecuteTime": {
     "end_time": "2022-08-10T02:13:17.436294Z",
     "start_time": "2022-08-10T02:13:15.315897Z"
    }
   },
   "outputs": [
    {
     "name": "stdout",
     "output_type": "stream",
     "text": [
      "Requirement already satisfied: xgboost in c:\\users\\user\\anaconda3\\lib\\site-packages (1.6.1)\n",
      "Requirement already satisfied: numpy in c:\\users\\user\\anaconda3\\lib\\site-packages (from xgboost) (1.21.5)\n",
      "Requirement already satisfied: scipy in c:\\users\\user\\anaconda3\\lib\\site-packages (from xgboost) (1.7.3)\n"
     ]
    }
   ],
   "source": [
    "!pip install xgboost"
   ]
  },
  {
   "cell_type": "code",
   "execution_count": 112,
   "id": "c68f5185",
   "metadata": {
    "ExecuteTime": {
     "end_time": "2022-08-16T05:29:44.752557Z",
     "start_time": "2022-08-16T05:29:44.725454Z"
    }
   },
   "outputs": [],
   "source": [
    "from xgboost import XGBClassifier\n",
    "#모델호출"
   ]
  },
  {
   "cell_type": "code",
   "execution_count": 113,
   "id": "cc0b21f1",
   "metadata": {
    "ExecuteTime": {
     "end_time": "2022-08-16T05:29:45.326057Z",
     "start_time": "2022-08-16T05:29:45.308323Z"
    }
   },
   "outputs": [],
   "source": [
    "model=XGBClassifier()"
   ]
  },
  {
   "cell_type": "code",
   "execution_count": 114,
   "id": "0d83614f",
   "metadata": {
    "ExecuteTime": {
     "end_time": "2022-08-16T05:29:46.050675Z",
     "start_time": "2022-08-16T05:29:46.033670Z"
    }
   },
   "outputs": [],
   "source": [
    "my_model =XGBClassifier(learning_rate=0.1,max_depth=5,n_estimators=400)"
   ]
  },
  {
   "cell_type": "code",
   "execution_count": 116,
   "id": "ce4e5d82",
   "metadata": {
    "ExecuteTime": {
     "end_time": "2022-08-16T05:30:04.269686Z",
     "start_time": "2022-08-16T05:30:00.742097Z"
    }
   },
   "outputs": [
    {
     "data": {
      "text/html": [
       "<style>#sk-container-id-10 {color: black;background-color: white;}#sk-container-id-10 pre{padding: 0;}#sk-container-id-10 div.sk-toggleable {background-color: white;}#sk-container-id-10 label.sk-toggleable__label {cursor: pointer;display: block;width: 100%;margin-bottom: 0;padding: 0.3em;box-sizing: border-box;text-align: center;}#sk-container-id-10 label.sk-toggleable__label-arrow:before {content: \"▸\";float: left;margin-right: 0.25em;color: #696969;}#sk-container-id-10 label.sk-toggleable__label-arrow:hover:before {color: black;}#sk-container-id-10 div.sk-estimator:hover label.sk-toggleable__label-arrow:before {color: black;}#sk-container-id-10 div.sk-toggleable__content {max-height: 0;max-width: 0;overflow: hidden;text-align: left;background-color: #f0f8ff;}#sk-container-id-10 div.sk-toggleable__content pre {margin: 0.2em;color: black;border-radius: 0.25em;background-color: #f0f8ff;}#sk-container-id-10 input.sk-toggleable__control:checked~div.sk-toggleable__content {max-height: 200px;max-width: 100%;overflow: auto;}#sk-container-id-10 input.sk-toggleable__control:checked~label.sk-toggleable__label-arrow:before {content: \"▾\";}#sk-container-id-10 div.sk-estimator input.sk-toggleable__control:checked~label.sk-toggleable__label {background-color: #d4ebff;}#sk-container-id-10 div.sk-label input.sk-toggleable__control:checked~label.sk-toggleable__label {background-color: #d4ebff;}#sk-container-id-10 input.sk-hidden--visually {border: 0;clip: rect(1px 1px 1px 1px);clip: rect(1px, 1px, 1px, 1px);height: 1px;margin: -1px;overflow: hidden;padding: 0;position: absolute;width: 1px;}#sk-container-id-10 div.sk-estimator {font-family: monospace;background-color: #f0f8ff;border: 1px dotted black;border-radius: 0.25em;box-sizing: border-box;margin-bottom: 0.5em;}#sk-container-id-10 div.sk-estimator:hover {background-color: #d4ebff;}#sk-container-id-10 div.sk-parallel-item::after {content: \"\";width: 100%;border-bottom: 1px solid gray;flex-grow: 1;}#sk-container-id-10 div.sk-label:hover label.sk-toggleable__label {background-color: #d4ebff;}#sk-container-id-10 div.sk-serial::before {content: \"\";position: absolute;border-left: 1px solid gray;box-sizing: border-box;top: 0;bottom: 0;left: 50%;z-index: 0;}#sk-container-id-10 div.sk-serial {display: flex;flex-direction: column;align-items: center;background-color: white;padding-right: 0.2em;padding-left: 0.2em;position: relative;}#sk-container-id-10 div.sk-item {position: relative;z-index: 1;}#sk-container-id-10 div.sk-parallel {display: flex;align-items: stretch;justify-content: center;background-color: white;position: relative;}#sk-container-id-10 div.sk-item::before, #sk-container-id-10 div.sk-parallel-item::before {content: \"\";position: absolute;border-left: 1px solid gray;box-sizing: border-box;top: 0;bottom: 0;left: 50%;z-index: -1;}#sk-container-id-10 div.sk-parallel-item {display: flex;flex-direction: column;z-index: 1;position: relative;background-color: white;}#sk-container-id-10 div.sk-parallel-item:first-child::after {align-self: flex-end;width: 50%;}#sk-container-id-10 div.sk-parallel-item:last-child::after {align-self: flex-start;width: 50%;}#sk-container-id-10 div.sk-parallel-item:only-child::after {width: 0;}#sk-container-id-10 div.sk-dashed-wrapped {border: 1px dashed gray;margin: 0 0.4em 0.5em 0.4em;box-sizing: border-box;padding-bottom: 0.4em;background-color: white;}#sk-container-id-10 div.sk-label label {font-family: monospace;font-weight: bold;display: inline-block;line-height: 1.2em;}#sk-container-id-10 div.sk-label-container {text-align: center;}#sk-container-id-10 div.sk-container {/* jupyter's `normalize.less` sets `[hidden] { display: none; }` but bootstrap.min.css set `[hidden] { display: none !important; }` so we also need the `!important` here to be able to override the default hidden behavior on the sphinx rendered scikit-learn.org. See: https://github.com/scikit-learn/scikit-learn/issues/21755 */display: inline-block !important;position: relative;}#sk-container-id-10 div.sk-text-repr-fallback {display: none;}</style><div id=\"sk-container-id-10\" class=\"sk-top-container\"><div class=\"sk-text-repr-fallback\"><pre>XGBClassifier(base_score=0.5, booster=&#x27;gbtree&#x27;, callbacks=None,\n",
       "              colsample_bylevel=1, colsample_bynode=1, colsample_bytree=1,\n",
       "              early_stopping_rounds=None, enable_categorical=False,\n",
       "              eval_metric=None, gamma=0, gpu_id=-1, grow_policy=&#x27;depthwise&#x27;,\n",
       "              importance_type=None, interaction_constraints=&#x27;&#x27;,\n",
       "              learning_rate=0.1, max_bin=256, max_cat_to_onehot=4,\n",
       "              max_delta_step=0, max_depth=5, max_leaves=0, min_child_weight=1,\n",
       "              missing=nan, monotone_constraints=&#x27;()&#x27;, n_estimators=400,\n",
       "              n_jobs=0, num_parallel_tree=1, objective=&#x27;multi:softprob&#x27;,\n",
       "              predictor=&#x27;auto&#x27;, random_state=0, reg_alpha=0, ...)</pre><b>In a Jupyter environment, please rerun this cell to show the HTML representation or trust the notebook. <br />On GitHub, the HTML representation is unable to render, please try loading this page with nbviewer.org.</b></div><div class=\"sk-container\" hidden><div class=\"sk-item\"><div class=\"sk-estimator sk-toggleable\"><input class=\"sk-toggleable__control sk-hidden--visually\" id=\"sk-estimator-id-10\" type=\"checkbox\" checked><label for=\"sk-estimator-id-10\" class=\"sk-toggleable__label sk-toggleable__label-arrow\">XGBClassifier</label><div class=\"sk-toggleable__content\"><pre>XGBClassifier(base_score=0.5, booster=&#x27;gbtree&#x27;, callbacks=None,\n",
       "              colsample_bylevel=1, colsample_bynode=1, colsample_bytree=1,\n",
       "              early_stopping_rounds=None, enable_categorical=False,\n",
       "              eval_metric=None, gamma=0, gpu_id=-1, grow_policy=&#x27;depthwise&#x27;,\n",
       "              importance_type=None, interaction_constraints=&#x27;&#x27;,\n",
       "              learning_rate=0.1, max_bin=256, max_cat_to_onehot=4,\n",
       "              max_delta_step=0, max_depth=5, max_leaves=0, min_child_weight=1,\n",
       "              missing=nan, monotone_constraints=&#x27;()&#x27;, n_estimators=400,\n",
       "              n_jobs=0, num_parallel_tree=1, objective=&#x27;multi:softprob&#x27;,\n",
       "              predictor=&#x27;auto&#x27;, random_state=0, reg_alpha=0, ...)</pre></div></div></div></div></div>"
      ],
      "text/plain": [
       "XGBClassifier(base_score=0.5, booster='gbtree', callbacks=None,\n",
       "              colsample_bylevel=1, colsample_bynode=1, colsample_bytree=1,\n",
       "              early_stopping_rounds=None, enable_categorical=False,\n",
       "              eval_metric=None, gamma=0, gpu_id=-1, grow_policy='depthwise',\n",
       "              importance_type=None, interaction_constraints='',\n",
       "              learning_rate=0.1, max_bin=256, max_cat_to_onehot=4,\n",
       "              max_delta_step=0, max_depth=5, max_leaves=0, min_child_weight=1,\n",
       "              missing=nan, monotone_constraints='()', n_estimators=400,\n",
       "              n_jobs=0, num_parallel_tree=1, objective='multi:softprob',\n",
       "              predictor='auto', random_state=0, reg_alpha=0, ...)"
      ]
     },
     "execution_count": 116,
     "metadata": {},
     "output_type": "execute_result"
    }
   ],
   "source": [
    "my_model.fit(X_smote,y_smote)\n",
    "#모델 학습"
   ]
  },
  {
   "cell_type": "code",
   "execution_count": 117,
   "id": "0c7b62db",
   "metadata": {
    "ExecuteTime": {
     "end_time": "2022-08-16T05:30:05.118128Z",
     "start_time": "2022-08-16T05:30:05.081322Z"
    }
   },
   "outputs": [
    {
     "data": {
      "text/plain": [
       "array([1, 2, 4, ..., 4, 2, 4], dtype=int64)"
      ]
     },
     "execution_count": 117,
     "metadata": {},
     "output_type": "execute_result"
    }
   ],
   "source": [
    "y_pred4 = my_model.predict(X_test) \n",
    "y_pred4#예측값 도출"
   ]
  },
  {
   "cell_type": "code",
   "execution_count": 118,
   "id": "240259af",
   "metadata": {
    "ExecuteTime": {
     "end_time": "2022-08-16T05:30:05.653792Z",
     "start_time": "2022-08-16T05:30:05.635483Z"
    }
   },
   "outputs": [
    {
     "name": "stdout",
     "output_type": "stream",
     "text": [
      "0.24260679079956188\n"
     ]
    }
   ],
   "source": [
    "print(accuracy_score(y_test,y_pred4))#정확도 확인"
   ]
  },
  {
   "cell_type": "code",
   "execution_count": 119,
   "id": "3aecc082",
   "metadata": {
    "ExecuteTime": {
     "end_time": "2022-08-16T05:30:26.949338Z",
     "start_time": "2022-08-16T05:30:20.436212Z"
    }
   },
   "outputs": [
    {
     "data": {
      "text/plain": [
       "array([3, 1, 3, ..., 3, 2, 3], dtype=int64)"
      ]
     },
     "execution_count": 119,
     "metadata": {},
     "output_type": "execute_result"
    }
   ],
   "source": [
    "my_model1 =XGBClassifier(learning_rate=0.1,max_depth=5,n_estimators=400)\n",
    "#학습률은 0.1,최대깊이5로 5이상으로 가지 않기,반복400번\n",
    "my_model1.fit(X_smote1,y_smote1)\n",
    "pred4 = my_model1.predict(X1_test) \n",
    "pred4"
   ]
  },
  {
   "cell_type": "code",
   "execution_count": 120,
   "id": "0a2869d0",
   "metadata": {
    "ExecuteTime": {
     "end_time": "2022-08-16T05:30:26.965284Z",
     "start_time": "2022-08-16T05:30:26.951332Z"
    }
   },
   "outputs": [
    {
     "name": "stdout",
     "output_type": "stream",
     "text": [
      "0.4534501642935378\n"
     ]
    }
   ],
   "source": [
    "print(accuracy_score(y_test,pred4))"
   ]
  },
  {
   "cell_type": "code",
   "execution_count": 121,
   "id": "21219b6e",
   "metadata": {
    "ExecuteTime": {
     "end_time": "2022-08-16T05:30:26.981231Z",
     "start_time": "2022-08-16T05:30:26.966281Z"
    }
   },
   "outputs": [
    {
     "name": "stdout",
     "output_type": "stream",
     "text": [
      "[[  2   1   0   3   1]\n",
      " [  0  20  28  27   6]\n",
      " [  3  70 268 212  36]\n",
      " [  6 142 292 514  99]\n",
      " [  0  10  14  48  24]]\n",
      "정밀도: 0.5242, 재현율: 0.4535\n"
     ]
    }
   ],
   "source": [
    "print(confusion_matrix(y1_test, pred4))\n",
    "precision = precision_score(y1_test, pred4,average= \"weighted\")\n",
    "recall = recall_score(y1_test, pred4,average= \"weighted\")\n",
    "print('정밀도: {0:.4f}, 재현율: {1:.4f}'.format(precision, recall))"
   ]
  },
  {
   "cell_type": "markdown",
   "id": "8411ed20",
   "metadata": {},
   "source": [
    "# 예측결과\n",
    "ligthgbm으로 예측확인"
   ]
  },
  {
   "cell_type": "code",
   "execution_count": null,
   "id": "db93cd89",
   "metadata": {},
   "outputs": [],
   "source": []
  }
 ],
 "metadata": {
  "kernelspec": {
   "display_name": "Python 3 (ipykernel)",
   "language": "python",
   "name": "python3"
  },
  "language_info": {
   "codemirror_mode": {
    "name": "ipython",
    "version": 3
   },
   "file_extension": ".py",
   "mimetype": "text/x-python",
   "name": "python",
   "nbconvert_exporter": "python",
   "pygments_lexer": "ipython3",
   "version": "3.9.12"
  },
  "toc": {
   "base_numbering": 1,
   "nav_menu": {},
   "number_sections": true,
   "sideBar": true,
   "skip_h1_title": false,
   "title_cell": "Table of Contents",
   "title_sidebar": "Contents",
   "toc_cell": false,
   "toc_position": {},
   "toc_section_display": true,
   "toc_window_display": false
  }
 },
 "nbformat": 4,
 "nbformat_minor": 5
}
