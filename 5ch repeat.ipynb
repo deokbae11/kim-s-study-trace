{
 "cells": [
  {
   "cell_type": "markdown",
   "id": "ea3a5124",
   "metadata": {},
   "source": [
    "<h1>5장 차원 축소를 사용한 데이터 압축</h1>"
   ]
  },
  {
   "cell_type": "code",
   "execution_count": 2,
   "id": "180c517c",
   "metadata": {},
   "outputs": [],
   "source": [
    "from IPython.display import Image"
   ]
  },
  {
   "cell_type": "markdown",
   "id": "90f17254",
   "metadata": {},
   "source": [
    "<h2>주성분 분석을 통한 비지도 학습"
   ]
  },
  {
   "cell_type": "markdown",
   "id": "58c02f0b",
   "metadata": {},
   "source": [
    "-데이터셋을 이용하여 예측을 하는경우 데이터의 차원이 많을수록 데이터의 정확도가 떨어질수 있다\n",
    "<br>-그러므로 특성을 추출합니다</br><br>-특성을 추출하여 차원의 문제를 감소시켜 정확도를 향상시킬수 있습니다</br>"
   ]
  },
  {
   "cell_type": "markdown",
   "id": "4dc5aa41",
   "metadata": {},
   "source": [
    "<h3>주성분 분석을 통한 비지도 학습"
   ]
  },
  {
   "cell_type": "markdown",
   "id": "14767783",
   "metadata": {},
   "source": [
    "비지도단계에서는 pca를 이용하여 차원을 축소합니다. pca는 특성간의 상관관계를 기반으로 하여 데이터의 패턴을 분석한다 pca는 분산이 가장큰 특징을 찾고 그다음 분산이 크고 1주성분과 직교인 주성분을 찾는다"
   ]
  },
  {
   "cell_type": "markdown",
   "id": "6f535979",
   "metadata": {},
   "source": [
    "pca는 데이터스케일에 민감해서 전처리 단계를 걸치고 해야합니다.\n",
    "1.데이터 표준화\n",
    "2.공분산 행렬 생성 3.공분산행렬을 벡터와 고윳값 분해합니다\n",
    "4.고윳값을 내림차순으로 정렬 그에 해당하는 벡터를 순위맥깁니다.\n",
    "5.고윳값이 큰 k의 고유벡터를 선택합니다. k는 특성부분공간의 차원입니다.\n",
    "6.최상의k개의 고유 벡터로 투영행렬 w를 만듭니다\n",
    "7.투영행렬 w사용하여 d차원 입력데이터셋x를 새로운차원k차원공간으로 변환"
   ]
  },
  {
   "cell_type": "code",
   "execution_count": 3,
   "id": "6c0bd59b",
   "metadata": {},
   "outputs": [
    {
     "data": {
      "text/html": [
       "<img src=\"https://git.io/JtsvW\" width=\"400\"/>"
      ],
      "text/plain": [
       "<IPython.core.display.Image object>"
      ]
     },
     "execution_count": 3,
     "metadata": {},
     "output_type": "execute_result"
    }
   ],
   "source": [
    "Image(url='https://git.io/JtsvW', width=400) "
   ]
  },
  {
   "cell_type": "markdown",
   "id": "695d5d35",
   "metadata": {},
   "source": [
    "<h3>주성분 분석을 통한 비지도 학습"
   ]
  },
  {
   "cell_type": "code",
   "execution_count": 4,
   "id": "84f51be5",
   "metadata": {},
   "outputs": [
    {
     "data": {
      "text/html": [
       "<div>\n",
       "<style scoped>\n",
       "    .dataframe tbody tr th:only-of-type {\n",
       "        vertical-align: middle;\n",
       "    }\n",
       "\n",
       "    .dataframe tbody tr th {\n",
       "        vertical-align: top;\n",
       "    }\n",
       "\n",
       "    .dataframe thead th {\n",
       "        text-align: right;\n",
       "    }\n",
       "</style>\n",
       "<table border=\"1\" class=\"dataframe\">\n",
       "  <thead>\n",
       "    <tr style=\"text-align: right;\">\n",
       "      <th></th>\n",
       "      <th>Class label</th>\n",
       "      <th>Alcohol</th>\n",
       "      <th>Malic acid</th>\n",
       "      <th>Ash</th>\n",
       "      <th>Alcalinity of ash</th>\n",
       "      <th>Magnesium</th>\n",
       "      <th>Total phenols</th>\n",
       "      <th>Flavanoids</th>\n",
       "      <th>Nonflavanoid phenols</th>\n",
       "      <th>Proanthocyanins</th>\n",
       "      <th>Color intensity</th>\n",
       "      <th>Hue</th>\n",
       "      <th>OD280/OD315 of diluted wines</th>\n",
       "      <th>Proline</th>\n",
       "    </tr>\n",
       "  </thead>\n",
       "  <tbody>\n",
       "    <tr>\n",
       "      <th>0</th>\n",
       "      <td>1</td>\n",
       "      <td>14.23</td>\n",
       "      <td>1.71</td>\n",
       "      <td>2.43</td>\n",
       "      <td>15.6</td>\n",
       "      <td>127</td>\n",
       "      <td>2.80</td>\n",
       "      <td>3.06</td>\n",
       "      <td>0.28</td>\n",
       "      <td>2.29</td>\n",
       "      <td>5.64</td>\n",
       "      <td>1.04</td>\n",
       "      <td>3.92</td>\n",
       "      <td>1065</td>\n",
       "    </tr>\n",
       "    <tr>\n",
       "      <th>1</th>\n",
       "      <td>1</td>\n",
       "      <td>13.20</td>\n",
       "      <td>1.78</td>\n",
       "      <td>2.14</td>\n",
       "      <td>11.2</td>\n",
       "      <td>100</td>\n",
       "      <td>2.65</td>\n",
       "      <td>2.76</td>\n",
       "      <td>0.26</td>\n",
       "      <td>1.28</td>\n",
       "      <td>4.38</td>\n",
       "      <td>1.05</td>\n",
       "      <td>3.40</td>\n",
       "      <td>1050</td>\n",
       "    </tr>\n",
       "    <tr>\n",
       "      <th>2</th>\n",
       "      <td>1</td>\n",
       "      <td>13.16</td>\n",
       "      <td>2.36</td>\n",
       "      <td>2.67</td>\n",
       "      <td>18.6</td>\n",
       "      <td>101</td>\n",
       "      <td>2.80</td>\n",
       "      <td>3.24</td>\n",
       "      <td>0.30</td>\n",
       "      <td>2.81</td>\n",
       "      <td>5.68</td>\n",
       "      <td>1.03</td>\n",
       "      <td>3.17</td>\n",
       "      <td>1185</td>\n",
       "    </tr>\n",
       "    <tr>\n",
       "      <th>3</th>\n",
       "      <td>1</td>\n",
       "      <td>14.37</td>\n",
       "      <td>1.95</td>\n",
       "      <td>2.50</td>\n",
       "      <td>16.8</td>\n",
       "      <td>113</td>\n",
       "      <td>3.85</td>\n",
       "      <td>3.49</td>\n",
       "      <td>0.24</td>\n",
       "      <td>2.18</td>\n",
       "      <td>7.80</td>\n",
       "      <td>0.86</td>\n",
       "      <td>3.45</td>\n",
       "      <td>1480</td>\n",
       "    </tr>\n",
       "    <tr>\n",
       "      <th>4</th>\n",
       "      <td>1</td>\n",
       "      <td>13.24</td>\n",
       "      <td>2.59</td>\n",
       "      <td>2.87</td>\n",
       "      <td>21.0</td>\n",
       "      <td>118</td>\n",
       "      <td>2.80</td>\n",
       "      <td>2.69</td>\n",
       "      <td>0.39</td>\n",
       "      <td>1.82</td>\n",
       "      <td>4.32</td>\n",
       "      <td>1.04</td>\n",
       "      <td>2.93</td>\n",
       "      <td>735</td>\n",
       "    </tr>\n",
       "  </tbody>\n",
       "</table>\n",
       "</div>"
      ],
      "text/plain": [
       "   Class label  Alcohol  Malic acid   Ash  Alcalinity of ash  Magnesium  \\\n",
       "0            1    14.23        1.71  2.43               15.6        127   \n",
       "1            1    13.20        1.78  2.14               11.2        100   \n",
       "2            1    13.16        2.36  2.67               18.6        101   \n",
       "3            1    14.37        1.95  2.50               16.8        113   \n",
       "4            1    13.24        2.59  2.87               21.0        118   \n",
       "\n",
       "   Total phenols  Flavanoids  Nonflavanoid phenols  Proanthocyanins  \\\n",
       "0           2.80        3.06                  0.28             2.29   \n",
       "1           2.65        2.76                  0.26             1.28   \n",
       "2           2.80        3.24                  0.30             2.81   \n",
       "3           3.85        3.49                  0.24             2.18   \n",
       "4           2.80        2.69                  0.39             1.82   \n",
       "\n",
       "   Color intensity   Hue  OD280/OD315 of diluted wines  Proline  \n",
       "0             5.64  1.04                          3.92     1065  \n",
       "1             4.38  1.05                          3.40     1050  \n",
       "2             5.68  1.03                          3.17     1185  \n",
       "3             7.80  0.86                          3.45     1480  \n",
       "4             4.32  1.04                          2.93      735  "
      ]
     },
     "execution_count": 4,
     "metadata": {},
     "output_type": "execute_result"
    }
   ],
   "source": [
    "import pandas as pd\n",
    "\n",
    "df_wine = pd.read_csv('https://archive.ics.uci.edu/ml/'\n",
    "                      'machine-learning-databases/wine/wine.data',\n",
    "                      header=None)\n",
    "\n",
    "\n",
    "df_wine.columns = ['Class label', 'Alcohol', 'Malic acid', 'Ash',\n",
    "                   'Alcalinity of ash', 'Magnesium', 'Total phenols',\n",
    "                   'Flavanoids', 'Nonflavanoid phenols', 'Proanthocyanins',\n",
    "                   'Color intensity', 'Hue',\n",
    "                   'OD280/OD315 of diluted wines', 'Proline']\n",
    "\n",
    "df_wine.head()"
   ]
  },
  {
   "cell_type": "code",
   "execution_count": 5,
   "id": "3718df72",
   "metadata": {},
   "outputs": [],
   "source": [
    "from sklearn.model_selection import train_test_split\n",
    "X=df_wine.iloc[:,1:].values\n",
    "y=df_wine.iloc[:,0].values\n",
    "X_train,X_test,y_train,y_test=train_test_split(X,y,test_size=0.3,stratify=y)\n",
    "from sklearn.preprocessing import StandardScaler\n",
    "sc=StandardScaler()\n",
    "X_train_std=sc.fit_transform(X_train)\n",
    "X_test_Std=sc.transform(X_test)"
   ]
  },
  {
   "cell_type": "markdown",
   "id": "6be38340",
   "metadata": {},
   "source": [
    "### 공분산 행렬의 고윳값 분해"
   ]
  },
  {
   "cell_type": "code",
   "execution_count": 6,
   "id": "cc94cf81",
   "metadata": {},
   "outputs": [
    {
     "name": "stdout",
     "output_type": "stream",
     "text": [
      "[4.61619945 2.71182346 1.48281669 0.92389573 0.81106565 0.66678321\n",
      " 0.54336629 0.09045587 0.14872934 0.21340396 0.34269197 0.25110985\n",
      " 0.30334959]\n"
     ]
    }
   ],
   "source": [
    "import numpy as np \n",
    "cov_mat=np.cov(X_train_std.T)\n",
    "eigen_vals,eigen_vecs=np.linalg.eig(cov_mat)\n",
    "print(eigen_vals)#고윳값"
   ]
  },
  {
   "cell_type": "markdown",
   "id": "1fd577d0",
   "metadata": {},
   "source": [
    "numpy.linalg.eig함수는 대칭과 비대칭을 다 다룰수있습니다. 비슷하게 에르미트 행렬을 분해하기위해 구현된.linalg.eigh함수는 공분산행렬과 같은 대칭헹랼을 다룰때 수치적으로 안정된결과를 제공합니다."
   ]
  },
  {
   "cell_type": "markdown",
   "id": "0629c2d6",
   "metadata": {},
   "source": [
    "### 분산과 설명된 분산"
   ]
  },
  {
   "cell_type": "code",
   "execution_count": 7,
   "id": "322ded4d",
   "metadata": {},
   "outputs": [],
   "source": [
    "tot=sum(eigen_vals)\n",
    "var_exp=[(i/tot)for i in sorted(eigen_vals,reverse=True)]#분산의 비율을 구한뒤 비울이 큰순서로 정렬한다\n",
    "cum_var_exp=np.cumsum(var_exp)#분포 누적\n",
    "import matplotlib.pyplot as plt"
   ]
  },
  {
   "cell_type": "code",
   "execution_count": 8,
   "id": "a45214a2",
   "metadata": {},
   "outputs": [
    {
     "data": {
      "text/plain": [
       "[<matplotlib.lines.Line2D at 0x1b47da8cd00>]"
      ]
     },
     "execution_count": 8,
     "metadata": {},
     "output_type": "execute_result"
    },
    {
     "data": {
      "image/png": "[encoded data removed]",
      "text/plain": [
       "<Figure size 432x288 with 1 Axes>"
      ]
     },
     "metadata": {
      "needs_background": "light"
     },
     "output_type": "display_data"
    }
   ],
   "source": [
    "plt.bar(range(1,14),var_exp,alpha=0.5,align='center')\n",
    "plt.step(range(1,14),cum_var_exp,where='mid')\n",
    "#2개의 주성분들이 60퍼를 차지하고 있다"
   ]
  },
  {
   "cell_type": "markdown",
   "id": "071c50e8",
   "metadata": {},
   "source": [
    "### 특성변환\n",
    "1.교윳값이 가장 큰k개의 고유벡터를 선택한다 k는 새로운 특성 부분공간\n",
    "2.최상위 k개의 고유벡터로 투영행렬w를 만듭니다\n",
    "3.w를 사용하여 d차원의 입력데이터 셋X를 만듭니다."
   ]
  },
  {
   "cell_type": "code",
   "execution_count": 9,
   "id": "2574c36e",
   "metadata": {},
   "outputs": [
    {
     "name": "stdout",
     "output_type": "stream",
     "text": [
      "[[-0.14709768  0.45696853]\n",
      " [ 0.23612964  0.25732429]\n",
      " [-0.01348789  0.3236074 ]\n",
      " [ 0.23467194  0.00677984]\n",
      " [-0.10501103  0.34830692]\n",
      " [-0.39757797  0.06416748]\n",
      " [-0.44078506 -0.00500834]\n",
      " [ 0.29746824  0.04047413]\n",
      " [-0.32961253  0.08148443]\n",
      " [ 0.07410328  0.50342298]\n",
      " [-0.2866998  -0.29053742]\n",
      " [-0.37299476 -0.16566909]\n",
      " [-0.28287851  0.34808791]]\n"
     ]
    }
   ],
   "source": [
    "# (고윳값, 고유벡터) 튜플의 리스트를 만듭니다\n",
    "eigen_pairs = [(np.abs(eigen_vals[i]), eigen_vecs[:, i])\n",
    "               for i in range(len(eigen_vals))]\n",
    "\n",
    "# 높은 값에서 낮은 값으로 (고윳값, 고유벡터) 튜플을 정렬합니다\n",
    "eigen_pairs.sort(key=lambda k: k[0], reverse=True)\n",
    "w = np.hstack((eigen_pairs[0][1][:, np.newaxis],\n",
    "               eigen_pairs[1][1][:, np.newaxis]))\n",
    "print(w)"
   ]
  },
  {
   "cell_type": "markdown",
   "id": "7607c8e4",
   "metadata": {},
   "source": [
    "노트:\n",
    "\n",
    "사용하는 Numpy와 LAPACK 버전에 따라 행렬 W의 부호가 바뀔 수 있습니다. 이는 문제가 아닙니다. v가 행렬 Σ의 고유벡터라면 다음을 얻을 수 있습니다.\n",
    "\n",
    "Σv=λv,\n",
    "여기에서 λ는 고윳값입니다.\n",
    "\n",
    "Σ⋅(−v)=−Σv=−λv=λ⋅(−v).\n",
    "이기 때문에 −v도 동일한 고윳값을 가진 고유벡터입니다"
   ]
  },
  {
   "cell_type": "code",
   "execution_count": 10,
   "id": "1d849ca1",
   "metadata": {
    "scrolled": true
   },
   "outputs": [
    {
     "data": {
      "image/png": "[encoded data removed]",
      "text/plain": [
       "<Figure size 432x288 with 1 Axes>"
      ]
     },
     "metadata": {
      "needs_background": "light"
     },
     "output_type": "display_data"
    }
   ],
   "source": [
    "X_train_pca = X_train_std.dot(w)\n",
    "colors = ['r', 'b', 'g']\n",
    "markers = ['s', 'x', 'o']\n",
    "\n",
    "for l, c, m in zip(np.unique(y_train), colors, markers):\n",
    "    plt.scatter(X_train_pca[y_train == l, 0], \n",
    "                X_train_pca[y_train == l, 1], \n",
    "                c=c, label=l, marker=m)\n",
    "\n",
    "plt.xlabel('PC 1')\n",
    "plt.ylabel('PC 2')\n",
    "plt.legend(loc='lower left')\n",
    "plt.tight_layout()\n",
    "# plt.savefig('images/05_03.png', dpi=300)\n",
    "plt.show()"
   ]
  },
  {
   "cell_type": "markdown",
   "id": "ea6eb024",
   "metadata": {},
   "source": [
    "### 사이킷런의 주성분 분석"
   ]
  },
  {
   "cell_type": "code",
   "execution_count": 11,
   "id": "09f810c4",
   "metadata": {},
   "outputs": [],
   "source": [
    "from sklearn.decomposition import PCA\n",
    "pca=PCA()\n",
    "X_train_pca=pca.fit_transform(X_train_std)\n",
    "X_test_pca=pca.transform(X_test_Std)"
   ]
  },
  {
   "cell_type": "code",
   "execution_count": 12,
   "id": "e2962d94",
   "metadata": {},
   "outputs": [
    {
     "data": {
      "image/png": "[encoded data removed]",
      "text/plain": [
       "<Figure size 432x288 with 1 Axes>"
      ]
     },
     "metadata": {
      "needs_background": "light"
     },
     "output_type": "display_data"
    }
   ],
   "source": [
    "plt.bar(range(1, 14), pca.explained_variance_ratio_, alpha=0.5, align='center')\n",
    "plt.step(range(1, 14), np.cumsum(pca.explained_variance_ratio_), where='mid')\n",
    "plt.ylabel('Explained variance ratio')\n",
    "plt.xlabel('Principal components')\n",
    "\n",
    "plt.show()"
   ]
  },
  {
   "cell_type": "code",
   "execution_count": 13,
   "id": "1905043a",
   "metadata": {},
   "outputs": [],
   "source": [
    "from matplotlib.colors import ListedColormap\n",
    "\n",
    "def plot_decision_regions(X, y, classifier, resolution=0.02):\n",
    "\n",
    "    # 마커와 컬러맵을 준비합니다\n",
    "    markers = ('s', 'x', 'o', '^', 'v')\n",
    "    colors = ('red', 'blue', 'lightgreen', 'gray', 'cyan')\n",
    "    cmap = ListedColormap(colors[:len(np.unique(y))])\n",
    "\n",
    "    # 결정 경계를 그립니다\n",
    "    x1_min, x1_max = X[:, 0].min() - 1, X[:, 0].max() + 1\n",
    "    x2_min, x2_max = X[:, 1].min() - 1, X[:, 1].max() + 1\n",
    "    xx1, xx2 = np.meshgrid(np.arange(x1_min, x1_max, resolution),\n",
    "                           np.arange(x2_min, x2_max, resolution))\n",
    "    Z = classifier.predict(np.array([xx1.ravel(), xx2.ravel()]).T)\n",
    "    Z = Z.reshape(xx1.shape)\n",
    "    plt.contourf(xx1, xx2, Z, alpha=0.4, cmap=cmap)\n",
    "    plt.xlim(xx1.min(), xx1.max())\n",
    "    plt.ylim(xx2.min(), xx2.max())\n",
    "\n",
    "    # 클래스별로 샘플을 그립니다\n",
    "    for idx, cl in enumerate(np.unique(y)):\n",
    "        plt.scatter(x=X[y == cl, 0], \n",
    "                    y=X[y == cl, 1],\n",
    "                    alpha=0.6, \n",
    "                    color=cmap(idx),\n",
    "                    edgecolor=None if idx==1 else 'black',\n",
    "                    marker=markers[idx], \n",
    "                    label=cl)"
   ]
  },
  {
   "cell_type": "code",
   "execution_count": 14,
   "id": "01d2bb6f",
   "metadata": {},
   "outputs": [],
   "source": [
    "from sklearn.linear_model import LogisticRegression\n",
    "pca=PCA(n_components=2)\n",
    "X_train_pca=pca.fit_transform(X_train_std)\n",
    "X_test_pca=pca.transform(X_test_Std)\n",
    "lr=LogisticRegression(random_state=1)\n",
    "lr=lr.fit(X_train_pca,y_train)"
   ]
  },
  {
   "cell_type": "code",
   "execution_count": 15,
   "id": "39994766",
   "metadata": {},
   "outputs": [
    {
     "data": {
      "text/plain": [
       "Text(0, 0.5, 'PC 2')"
      ]
     },
     "execution_count": 15,
     "metadata": {},
     "output_type": "execute_result"
    },
    {
     "data": {
      "image/png": "[encoded data removed]",
      "text/plain": [
       "<Figure size 432x288 with 1 Axes>"
      ]
     },
     "metadata": {
      "needs_background": "light"
     },
     "output_type": "display_data"
    }
   ],
   "source": [
    "plot_decision_regions(X_train_pca, y_train, classifier=lr)\n",
    "plt.xlabel('PC 1')\n",
    "plt.ylabel('PC 2')"
   ]
  },
  {
   "cell_type": "code",
   "execution_count": 16,
   "id": "42c5aff3",
   "metadata": {},
   "outputs": [
    {
     "data": {
      "text/plain": [
       "array([0.35222862, 0.20691953, 0.11314296, 0.07049577, 0.06188652,\n",
       "       0.05087738, 0.04146033, 0.02614833, 0.0231464 , 0.01916037,\n",
       "       0.0162833 , 0.01134845, 0.00690203])"
      ]
     },
     "execution_count": 16,
     "metadata": {},
     "output_type": "execute_result"
    }
   ],
   "source": [
    "pca = PCA(n_components=None)\n",
    "X_train_pca = pca.fit_transform(X_train_std)\n",
    "pca.explained_variance_ratio_#분산의 비율을 나타낸다 계산없이 분산비율 확인하여 주성분을 선택할수 있다"
   ]
  },
  {
   "cell_type": "code",
   "execution_count": 17,
   "id": "7126bd62",
   "metadata": {},
   "outputs": [
    {
     "name": "stdout",
     "output_type": "stream",
     "text": [
      "주성분 개수: 10\n",
      "설명된 분산 비율: 0.965466210516188\n"
     ]
    }
   ],
   "source": [
    "pca = PCA(n_components=0.95)#95프로 까지 설명하는 주성분의 비율을 나타낸다\n",
    "pca.fit(X_train_std)\n",
    "print('주성분 개수:', pca.n_components_)\n",
    "print('설명된 분산 비율:', np.sum(pca.explained_variance_ratio_))"
   ]
  },
  {
   "cell_type": "code",
   "execution_count": 18,
   "id": "36dc16a3",
   "metadata": {},
   "outputs": [
    {
     "name": "stdout",
     "output_type": "stream",
     "text": [
      "주성분 개수: 7\n",
      "설명된 분산 비율: 0.8970111100041168\n"
     ]
    }
   ],
   "source": [
    "pca = PCA(n_components='mle')#토마스민카의 차원선택방식을 사용한다\n",
    "pca.fit(X_train_std)\n",
    "print('주성분 개수:', pca.n_components_)\n",
    "print('설명된 분산 비율:', np.sum(pca.explained_variance_ratio_))"
   ]
  },
  {
   "cell_type": "markdown",
   "id": "de586c5d",
   "metadata": {},
   "source": [
    "PCA의 가장 큰 제약 사항 중 하나는 배치로만 실행되기 때문에 대용량 데이터셋을 처리하려면 많은 메모리가 필요합니다. IncrementalPCA를 사용하면 데이터셋의 일부를 사용하여 반복적으로 훈련할 수 있습니다."
   ]
  },
  {
   "cell_type": "code",
   "execution_count": 19,
   "id": "b0a358a5",
   "metadata": {},
   "outputs": [
    {
     "name": "stdout",
     "output_type": "stream",
     "text": [
      "주성분 개수: 9\n"
     ]
    }
   ],
   "source": [
    "#호출\n",
    "from sklearn.decomposition import IncrementalPCA\n",
    "ipca=IncrementalPCA(n_components=9)\n",
    "for batch in range(len(X_train_std)//25+1):\n",
    "    X_batch=X_train_std[batch*25:(batch+1)*25]\n",
    "    ipca.partial_fit(X_batch)\n",
    "print('주성분 개수:',ipca.n_components_)"
   ]
  },
  {
   "cell_type": "markdown",
   "id": "810cd617",
   "metadata": {},
   "source": [
    "## 선형 판별 분석을 통한 지도방식의 데이터 압축"
   ]
  },
  {
   "cell_type": "code",
   "execution_count": 20,
   "id": "2337dc02",
   "metadata": {},
   "outputs": [
    {
     "data": {
      "text/html": [
       "<img src=\"https://git.io/Jtsv8\" width=\"400\"/>"
      ],
      "text/plain": [
       "<IPython.core.display.Image object>"
      ]
     },
     "execution_count": 20,
     "metadata": {},
     "output_type": "execute_result"
    }
   ],
   "source": [
    "Image(url='https://git.io/Jtsv8', width=400) \n"
   ]
  },
  {
   "cell_type": "markdown",
   "id": "d3151864",
   "metadata": {},
   "source": [
    "선형판별분석은 규제가 없는 모델에서 차원의 저주로 과대적합 줄이고 계산 효율성 높이는것이다 LDA는 클래스를 최적으로 구분할수있는 특성부분공간을 찾는것입니다\n",
    "    LDA는 지도 학습에서 사용되는 특성추출기법입니다.\n",
    "<br>d차원의 데이터셋을 표준화 처리합니다 \n",
    "<br>각 클래스에 대해 d차원의 평균벡터 계산\n",
    "<br>클래스간의 산포행렬 계산 클래스내의 산포행렬 계산\n",
    "<br>S−1WSB 행렬의 고윳값\n",
    "<br>고윳값을 내림차순 정렬\n",
    "<br>고윳값이 가장 큰 k개의 고유 벡터 선택\n",
    "<br>고유 벡터로 만든 변환 행렬로 데이터셋 투영\n"
   ]
  },
  {
   "cell_type": "markdown",
   "id": "23649587",
   "metadata": {},
   "source": [
    "산포행렬계산"
   ]
  },
  {
   "cell_type": "code",
   "execution_count": 21,
   "id": "cf3b60de",
   "metadata": {},
   "outputs": [
    {
     "name": "stdout",
     "output_type": "stream",
     "text": [
      "1 [ 0.8921 -0.2084  0.3591 -0.7063  0.5091  0.8614  0.9955 -0.5628  0.6079\n",
      "  0.2138  0.4252  0.7239  1.1657]\n",
      "2 [-0.9034 -0.4368 -0.4571  0.2031 -0.4555 -0.0827  0.0211 -0.0105 -0.0139\n",
      " -0.8345  0.4595  0.2733 -0.737 ]\n",
      "3 [ 0.2605  0.9208  0.2464  0.5698  0.0575 -0.9449 -1.2688  0.7152 -0.7342\n",
      "  0.9987 -1.2244 -1.3134 -0.3316]\n"
     ]
    }
   ],
   "source": [
    "np.set_printoptions(precision=4)\n",
    "mean_vecs=[]\n",
    "for label in range(1,4):\n",
    "    mean_vecs.append(np.mean(X_train_std[y_train==label],axis=0))\n",
    "    print(label,mean_vecs[label-1])"
   ]
  },
  {
   "cell_type": "markdown",
   "id": "01c47063",
   "metadata": {},
   "source": [
    "<br>SW=∑ci=1Si\n",
    "<br>Si=∑x∈Di(x−mi)T(x−mi)"
   ]
  },
  {
   "cell_type": "code",
   "execution_count": 22,
   "id": "98d89772",
   "metadata": {},
   "outputs": [],
   "source": [
    "d=13\n",
    "S_W=np.zeros((d,d))#13,13 특성의 크기만큼 d*d행렬 생성\n",
    "for label , mv in zip(range(1,4),mean_vecs):\n",
    "    class_scatter=np.zeros((d,d))\n",
    "    for row in X_train_std[y_train==label]:\n",
    "        row,mv=row.reshape(d,1),mv.reshape(d,1)\n",
    "        class_scatter += (row-mv).dot((row-mv).T)\n",
    "    S_W+=class_scatter"
   ]
  },
  {
   "cell_type": "code",
   "execution_count": 23,
   "id": "8e383ec1",
   "metadata": {},
   "outputs": [
    {
     "name": "stdout",
     "output_type": "stream",
     "text": [
      "[41 50 33]\n"
     ]
    }
   ],
   "source": [
    "#클래스가 균일하게 분포하지 않았으면 공분산 행렬을 사용하는것이 좋습니다\n",
    "print(np.bincount(y_train)[1:])"
   ]
  },
  {
   "cell_type": "code",
   "execution_count": 24,
   "id": "4c636f57",
   "metadata": {},
   "outputs": [
    {
     "name": "stdout",
     "output_type": "stream",
     "text": [
      "스케일 조정된 클래스 내의 산포 행렬: 13x13\n"
     ]
    }
   ],
   "source": [
    "d = 13  # 특성의 수\n",
    "S_W = np.zeros((d, d))\n",
    "for label, mv in zip(range(1, 4), mean_vecs):\n",
    "    class_scatter = np.cov(X_train_std[y_train == label].T)\n",
    "    S_W += class_scatter\n",
    "print('스케일 조정된 클래스 내의 산포 행렬: %sx%s' % \n",
    "      (S_W.shape[0], S_W.shape[1]))"
   ]
  },
  {
   "cell_type": "markdown",
   "id": "d01478de",
   "metadata": {},
   "source": [
    "SB=∑ci=1ni(mi−m)T(mi−m)\n",
    "<br>클래스간의 산포행렬 mi=는 클래스의 평균 m=전체평균"
   ]
  },
  {
   "cell_type": "code",
   "execution_count": 25,
   "id": "e81c3eea",
   "metadata": {},
   "outputs": [
    {
     "name": "stdout",
     "output_type": "stream",
     "text": [
      "클래스 간의 산포 행렬: 13x13\n"
     ]
    }
   ],
   "source": [
    "mean_overall = np.mean(X_train_std, axis=0)#전체평균\n",
    "mean_overall = mean_overall.reshape(d, 1) #열벡터로 치환\n",
    "d = 13  # 특성 개수\n",
    "S_B = np.zeros((d, d))\n",
    "for i, mean_vec in enumerate(mean_vecs):\n",
    "    n = X_train_std[y_train == i + 1, :].shape[0]\n",
    "    mean_vec = mean_vec.reshape(d, 1)  # 열 벡터로 만들기\n",
    "    S_B += n * (mean_vec - mean_overall).dot((mean_vec - mean_overall).T)\n",
    "\n",
    "print('클래스 간의 산포 행렬: %sx%s' % (S_B.shape[0], S_B.shape[1]))"
   ]
  },
  {
   "cell_type": "markdown",
   "id": "4db28bf7",
   "metadata": {},
   "source": [
    "### 선형 판별 벡터 선택하기"
   ]
  },
  {
   "cell_type": "markdown",
   "id": "421ae047",
   "metadata": {},
   "source": [
    "행렬 S−1WSB의 일반적인 고윳값 분해 문제를 풉니다"
   ]
  },
  {
   "cell_type": "code",
   "execution_count": 26,
   "id": "9934daeb",
   "metadata": {},
   "outputs": [],
   "source": [
    "eigen_vals, eigen_vecs = np.linalg.eig(np.linalg.inv(S_W).dot(S_B))"
   ]
  },
  {
   "cell_type": "code",
   "execution_count": 27,
   "id": "dcd89be3",
   "metadata": {},
   "outputs": [
    {
     "name": "stdout",
     "output_type": "stream",
     "text": [
      "내림차순의 고윳값:\n",
      "\n",
      "397.77467466425543\n",
      "189.9675056770115\n",
      "3.960032256358572e-14\n",
      "2.842170943040401e-14\n",
      "2.560107438649614e-14\n",
      "2.2423535280209857e-14\n",
      "2.2423535280209857e-14\n",
      "1.5275176875930156e-14\n",
      "1.5275176875930156e-14\n",
      "1.0227655328228867e-14\n",
      "1.0227655328228867e-14\n",
      "2.187362087419188e-15\n",
      "5.298146642119492e-17\n"
     ]
    }
   ],
   "source": [
    "# (고윳값, 고유벡터) 튜플의 리스트를 만듭니다.\n",
    "eigen_pairs = [(np.abs(eigen_vals[i]), eigen_vecs[:, i])\n",
    "               for i in range(len(eigen_vals))]\n",
    "\n",
    "# (고윳값, 고유벡터) 튜플을 큰 값에서 작은 값 순서대로 정렬합니다.\n",
    "eigen_pairs = sorted(eigen_pairs, key=lambda k: k[0], reverse=True)\n",
    "\n",
    "# 고윳값의 역순으로 올바르게 정렬되었는지 확인합니다.\n",
    "print('내림차순의 고윳값:\\n')\n",
    "for eigen_val in eigen_pairs:\n",
    "    print(eigen_val[0])"
   ]
  },
  {
   "cell_type": "code",
   "execution_count": 28,
   "id": "d1a5434e",
   "metadata": {},
   "outputs": [
    {
     "data": {
      "image/png": "[encoded data removed]",
      "text/plain": [
       "<Figure size 432x288 with 1 Axes>"
      ]
     },
     "metadata": {
      "needs_background": "light"
     },
     "output_type": "display_data"
    }
   ],
   "source": [
    "tot = sum(eigen_vals.real)\n",
    "discr = [(i / tot) for i in sorted(eigen_vals.real, reverse=True)]\n",
    "cum_discr = np.cumsum(discr)\n",
    "\n",
    "plt.bar(range(1, 14), discr, alpha=0.5, align='center',\n",
    "        label='Individual \"discriminability\"')\n",
    "plt.step(range(1, 14), cum_discr, where='mid',\n",
    "         label='Cumulative \"discriminability\"')\n",
    "plt.ylabel('\"Discriminability\" ratio')\n",
    "plt.xlabel('Linear discriminants')\n",
    "plt.ylim([-0.1, 1.1])\n",
    "plt.legend(loc='best')\n",
    "plt.tight_layout()\n",
    "# plt.savefig('images/05_07.png', dpi=300)\n",
    "plt.show()"
   ]
  },
  {
   "cell_type": "code",
   "execution_count": 29,
   "id": "ada60d49",
   "metadata": {},
   "outputs": [
    {
     "name": "stdout",
     "output_type": "stream",
     "text": [
      "행렬 W:\n",
      " [[-0.0559 -0.495 ]\n",
      " [ 0.0593 -0.2131]\n",
      " [-0.0598 -0.4124]\n",
      " [ 0.1822  0.3224]\n",
      " [-0.018   0.0373]\n",
      " [ 0.2111 -0.0069]\n",
      " [-0.7913  0.1473]\n",
      " [-0.1054  0.0731]\n",
      " [ 0.0633  0.1507]\n",
      " [ 0.2379 -0.1754]\n",
      " [-0.0635  0.2775]\n",
      " [-0.3216  0.1129]\n",
      " [-0.3261 -0.5136]]\n"
     ]
    }
   ],
   "source": [
    "w = np.hstack((eigen_pairs[0][1][:, np.newaxis].real,\n",
    "              eigen_pairs[1][1][:, np.newaxis].real))#.real복소수형 반환\n",
    "print('행렬 W:\\n', w)#첫번째두번째의 벡터를 이용하여\n"
   ]
  },
  {
   "cell_type": "markdown",
   "id": "615723d0",
   "metadata": {},
   "source": [
    "### 사이킷런의 LDA"
   ]
  },
  {
   "cell_type": "code",
   "execution_count": 30,
   "id": "1223a285",
   "metadata": {},
   "outputs": [],
   "source": [
    "from sklearn.discriminant_analysis import LinearDiscriminantAnalysis as LDA\n",
    "\n",
    "lda = LDA(n_components=2)\n",
    "X_train_lda = lda.fit_transform(X_train_std, y_train)"
   ]
  },
  {
   "cell_type": "code",
   "execution_count": 31,
   "id": "9a0bee72",
   "metadata": {},
   "outputs": [
    {
     "data": {
      "image/png": "[encoded data removed]",
      "text/plain": [
       "<Figure size 432x288 with 1 Axes>"
      ]
     },
     "metadata": {
      "needs_background": "light"
     },
     "output_type": "display_data"
    }
   ],
   "source": [
    "from sklearn.linear_model import LogisticRegression\n",
    "\n",
    "lr = LogisticRegression(random_state=1)\n",
    "lr = lr.fit(X_train_lda, y_train)\n",
    "\n",
    "plot_decision_regions(X_train_lda, y_train, classifier=lr)\n",
    "plt.xlabel('LD 1')\n",
    "plt.ylabel('LD 2')\n",
    "plt.legend(loc='lower left')\n",
    "plt.tight_layout()\n",
    "# plt.savefig('images/05_09.png', dpi=300)\n",
    "plt.show()"
   ]
  },
  {
   "cell_type": "markdown",
   "id": "657d5f3e",
   "metadata": {},
   "source": [
    "## kernelPCA"
   ]
  },
  {
   "cell_type": "markdown",
   "id": "6ab2a5a2",
   "metadata": {},
   "source": [
    "많은 머신러닝 알고리즘은 입력데이터가 선형적으로 구분이 가능하다는 가정을 합니다\n",
    "현재의 많은 데이터는 선형적으로 구분을 할수 없습니다. 그로안해 비선형 문제를 다루기위해 커널화 pca를 사용하여 차원축소하여 \n",
    "계산합니다"
   ]
  },
  {
   "cell_type": "markdown",
   "id": "1d750acc",
   "metadata": {},
   "source": [
    "### 커널함수 커널트릭"
   ]
  },
  {
   "cell_type": "markdown",
   "id": "31d8d4dc",
   "metadata": {},
   "source": [
    "비선형 뮨제를 해결하기 위해 클래스가 선형적으로 구분되는 새로운 고차원 특성 공간으로 구분되는 새로운 고차원공간으로 투영할수있습니다\n"
   ]
  },
  {
   "cell_type": "markdown",
   "id": "fefb1ac5",
   "metadata": {},
   "source": [
    "1.커널유사도 행렬 k를 다음 식으로 계산\n",
    "2.커널행렬k를 중앙에 정렬\n",
    "3.투영된 샘플 확인\n"
   ]
  },
  {
   "cell_type": "code",
   "execution_count": 43,
   "id": "541d6f6d",
   "metadata": {},
   "outputs": [],
   "source": [
    "#구현 \n",
    "from scipy.spatial.distance import pdist,squareform\n",
    "from numpy import exp\n",
    "from scipy.linalg import eigh\n",
    "import numpy as np\n",
    "\n",
    "def rbf_kernel_pca(X,gamma,n_components):\n",
    "    \"\"\"RBF 커널\n",
    "    x:넘파이{ndarray} shape=[n_samples,n_features]\n",
    "    gamma:float 튜닝 매개변수\n",
    "    n_components: w주성분개수\"\"\"\n",
    "    \n",
    "    #데이터셋에서 샘플간 유클라디안 거리 확인\n",
    "    sq_dists=pdist(X,'sqeuclidean')\n",
    "    #샘플간의 거리를 정방대칭\n",
    "    mat_sq_dist=squareform(sq_dists)\n",
    "    #커널 행렬을 계산\n",
    "    K=exp(-gamma*mat_sq_dist)\n",
    "    #커널 행렬을 중앙에 정렬\n",
    "    N=K.shape[0]\n",
    "    one_n=np.ones((N,N))/N\n",
    "    K = K - one_n.dot(K) - K.dot(one_n) + one_n.dot(K).dot(one_n)\n",
    "    \n",
    "    # 중앙에 맞춰진 커널 행렬의 고윳값과 고유벡터를 구합니다.\n",
    "    # scipy.linalg.eigh 함수는 오름차순으로 반환합니다.\n",
    "    eigvals, eigvecs = eigh(K)\n",
    "    eigvals, eigvecs = eigvals[::-1], eigvecs[:, ::-1]\n",
    "    \n",
    "    #최상의k개의 고유벡터 선택\n",
    "    X_pc=np.column_stack([eigvecs[:,i]for i in range(n_components)])\n",
    "    return X_pc"
   ]
  },
  {
   "cell_type": "code",
   "execution_count": 36,
   "id": "4a12d908",
   "metadata": {},
   "outputs": [
    {
     "data": {
      "image/png": "[encoded data removed]",
      "text/plain": [
       "<Figure size 432x288 with 1 Axes>"
      ]
     },
     "metadata": {
      "needs_background": "light"
     },
     "output_type": "display_data"
    }
   ],
   "source": [
    "import matplotlib.pyplot as plt\n",
    "from sklearn.datasets import make_moons\n",
    "\n",
    "X, y = make_moons(n_samples=100, random_state=123)\n",
    "\n",
    "plt.scatter(X[y == 0, 0], X[y == 0, 1], color='red', marker='^', alpha=0.5)\n",
    "plt.scatter(X[y == 1, 0], X[y == 1, 1], color='blue', marker='o', alpha=0.5)\n",
    "\n",
    "plt.tight_layout()\n",
    "# plt.savefig('images/05_12.png', dpi=300)\n",
    "plt.show()"
   ]
  },
  {
   "cell_type": "code",
   "execution_count": 37,
   "id": "1e5c963c",
   "metadata": {},
   "outputs": [
    {
     "data": {
      "image/png": "[encoded data removed]",
      "text/plain": [
       "<Figure size 504x216 with 2 Axes>"
      ]
     },
     "metadata": {
      "needs_background": "light"
     },
     "output_type": "display_data"
    }
   ],
   "source": [
    "from sklearn.decomposition import PCA\n",
    "\n",
    "scikit_pca = PCA(n_components=2)\n",
    "X_spca = scikit_pca.fit_transform(X)\n",
    "\n",
    "fig, ax = plt.subplots(nrows=1, ncols=2, figsize=(7, 3))\n",
    "\n",
    "ax[0].scatter(X_spca[y == 0, 0], X_spca[y == 0, 1],\n",
    "              color='red', marker='^', alpha=0.5)\n",
    "ax[0].scatter(X_spca[y == 1, 0], X_spca[y == 1, 1],\n",
    "              color='blue', marker='o', alpha=0.5)\n",
    "\n",
    "ax[1].scatter(X_spca[y == 0, 0], np.zeros((50, 1)) + 0.02,\n",
    "              color='red', marker='^', alpha=0.5)\n",
    "ax[1].scatter(X_spca[y == 1, 0], np.zeros((50, 1)) - 0.02,\n",
    "              color='blue', marker='o', alpha=0.5)\n",
    "\n",
    "ax[0].set_xlabel('PC1')\n",
    "ax[0].set_ylabel('PC2')\n",
    "ax[1].set_ylim([-1, 1])\n",
    "ax[1].set_yticks([])\n",
    "ax[1].set_xlabel('PC1')\n",
    "\n",
    "plt.tight_layout()\n",
    "# plt.savefig('images/05_13.png', dpi=300)\n",
    "plt.show()"
   ]
  },
  {
   "cell_type": "code",
   "execution_count": 38,
   "id": "3414b6c1",
   "metadata": {},
   "outputs": [
    {
     "data": {
      "image/png": "[encoded data removed]",
      "text/plain": [
       "<Figure size 432x288 with 1 Axes>"
      ]
     },
     "metadata": {
      "needs_background": "light"
     },
     "output_type": "display_data"
    }
   ],
   "source": [
    "from sklearn.datasets import make_circles\n",
    "\n",
    "X, y = make_circles(n_samples=1000, random_state=123, noise=0.1, factor=0.2)\n",
    "\n",
    "plt.scatter(X[y == 0, 0], X[y == 0, 1], color='red', marker='^', alpha=0.5)\n",
    "plt.scatter(X[y == 1, 0], X[y == 1, 1], color='blue', marker='o', alpha=0.5)\n",
    "\n",
    "plt.tight_layout()\n",
    "# plt.savefig('images/05_15.png', dpi=300)\n",
    "plt.show()"
   ]
  },
  {
   "cell_type": "code",
   "execution_count": 39,
   "id": "b01b4b63",
   "metadata": {},
   "outputs": [
    {
     "data": {
      "image/png": "[encoded data removed]",
      "text/plain": [
       "<Figure size 504x216 with 2 Axes>"
      ]
     },
     "metadata": {
      "needs_background": "light"
     },
     "output_type": "display_data"
    }
   ],
   "source": [
    "scikit_pca = PCA(n_components=2)\n",
    "X_spca = scikit_pca.fit_transform(X)\n",
    "\n",
    "fig, ax = plt.subplots(nrows=1, ncols=2, figsize=(7, 3))\n",
    "\n",
    "ax[0].scatter(X_spca[y == 0, 0], X_spca[y == 0, 1],\n",
    "              color='red', marker='^', alpha=0.5)\n",
    "ax[0].scatter(X_spca[y == 1, 0], X_spca[y == 1, 1],\n",
    "              color='blue', marker='o', alpha=0.5)\n",
    "\n",
    "ax[1].scatter(X_spca[y == 0, 0], np.zeros((500, 1)) + 0.02,\n",
    "              color='red', marker='^', alpha=0.5)\n",
    "ax[1].scatter(X_spca[y == 1, 0], np.zeros((500, 1)) - 0.02,\n",
    "              color='blue', marker='o', alpha=0.5)\n",
    "\n",
    "ax[0].set_xlabel('PC1')\n",
    "ax[0].set_ylabel('PC2')\n",
    "ax[1].set_ylim([-1, 1])\n",
    "ax[1].set_yticks([])\n",
    "ax[1].set_xlabel('PC1')\n",
    "\n",
    "plt.tight_layout()\n",
    "# plt.savefig('images/05_16.png', dpi=300)\n",
    "plt.show()"
   ]
  },
  {
   "cell_type": "code",
   "execution_count": 44,
   "id": "5182b3dd",
   "metadata": {},
   "outputs": [
    {
     "data": {
      "image/png": "[encoded data removed]",
      "text/plain": [
       "<Figure size 504x216 with 2 Axes>"
      ]
     },
     "metadata": {
      "needs_background": "light"
     },
     "output_type": "display_data"
    }
   ],
   "source": [
    "X_kpca = rbf_kernel_pca(X, gamma=15, n_components=2)\n",
    "\n",
    "fig, ax = plt.subplots(nrows=1, ncols=2, figsize=(7, 3))\n",
    "ax[0].scatter(X_kpca[y == 0, 0], X_kpca[y == 0, 1],\n",
    "              color='red', marker='^', alpha=0.5)\n",
    "ax[0].scatter(X_kpca[y == 1, 0], X_kpca[y == 1, 1],\n",
    "              color='blue', marker='o', alpha=0.5)\n",
    "\n",
    "ax[1].scatter(X_kpca[y == 0, 0], np.zeros((500, 1)) + 0.02,\n",
    "              color='red', marker='^', alpha=0.5)\n",
    "ax[1].scatter(X_kpca[y == 1, 0], np.zeros((500, 1)) - 0.02,\n",
    "              color='blue', marker='o', alpha=0.5)\n",
    "\n",
    "ax[0].set_xlabel('PC1')\n",
    "ax[0].set_ylabel('PC2')\n",
    "ax[1].set_ylim([-1, 1])\n",
    "ax[1].set_yticks([])\n",
    "ax[1].set_xlabel('PC1')\n",
    "\n",
    "plt.tight_layout()\n",
    "# plt.savefig('images/05_17.png', dpi=300)\n",
    "plt.show()"
   ]
  },
  {
   "cell_type": "markdown",
   "id": "10d402d2",
   "metadata": {},
   "source": [
    "### 새로운 데이터 투영"
   ]
  },
  {
   "cell_type": "markdown",
   "id": "abd8f2be",
   "metadata": {},
   "source": [
    "훈련데이터셋에 퍼힘되지 않았던 새로운 데이터 포인트를 투영하는방법"
   ]
  },
  {
   "cell_type": "code",
   "execution_count": 45,
   "id": "23005dec",
   "metadata": {},
   "outputs": [],
   "source": [
    "from scipy.spatial.distance import pdist, squareform\n",
    "from numpy import exp\n",
    "from scipy.linalg import eigh\n",
    "import numpy as np\n",
    "\n",
    "def rbf_kernel_pca(X,gamma,n_components):\n",
    "    \"\"\"return\n",
    "    alpha:넘파이 shpae=[n_samples,k_features]\n",
    "    lambdas:list\"\"\"\n",
    "    sq_dists=pdist(X,'sqeuclidean')\n",
    "    mat_sq_dists=squareform(sq_dists)\n",
    "    K=exp(-gamma*mat_sq_dists)\n",
    "    N=K.shape[0]\n",
    "    one_n=np.ones((N,N))/N\n",
    "    K = K - one_n.dot(K) - K.dot(one_n) + one_n.dot(K).dot(one_n)\n",
    "    eigvals, eigvecs = eigh(K)\n",
    "    eigvals, eigvecs = eigvals[::-1], eigvecs[:, ::-1]\n",
    "    #최상위 k개의 고유벡터를 선택합니다\n",
    "    alphas = np.column_stack([eigvecs[:, i]\n",
    "                              for i in range(n_components)])\n",
    "    #고윳값 선택\n",
    "    lambdas=[eigvals[i] for i in range(n_components)]\n",
    "    \n",
    "    return alphas,lambdas\n",
    "    "
   ]
  },
  {
   "cell_type": "code",
   "execution_count": 46,
   "id": "bccb9418",
   "metadata": {},
   "outputs": [],
   "source": [
    "X, y = make_moons(n_samples=100, random_state=123)\n",
    "alphas, lambdas = rbf_kernel_pca(X, gamma=15, n_components=1)"
   ]
  },
  {
   "cell_type": "code",
   "execution_count": 47,
   "id": "b02022bf",
   "metadata": {},
   "outputs": [
    {
     "data": {
      "text/plain": [
       "array([1.8713, 0.0093])"
      ]
     },
     "execution_count": 47,
     "metadata": {},
     "output_type": "execute_result"
    }
   ],
   "source": [
    "x_new = X[25]\n",
    "x_new"
   ]
  },
  {
   "cell_type": "code",
   "execution_count": 48,
   "id": "cb3a0cc3",
   "metadata": {},
   "outputs": [
    {
     "data": {
      "text/plain": [
       "array([0.0788])"
      ]
     },
     "execution_count": 48,
     "metadata": {},
     "output_type": "execute_result"
    }
   ],
   "source": [
    "x_proj = alphas[25] # 원본 투영\n",
    "x_proj"
   ]
  },
  {
   "cell_type": "code",
   "execution_count": 50,
   "id": "26a4db2e",
   "metadata": {},
   "outputs": [
    {
     "data": {
      "text/plain": [
       "array([0.0788])"
      ]
     },
     "execution_count": 50,
     "metadata": {},
     "output_type": "execute_result"
    }
   ],
   "source": [
    "def project_x(x_new,X,gamma,alphas,lambdas):\n",
    "    pair_dist=np.array([np.sum((x_new-row)**2) for row in X])\n",
    "    k=np.exp(-gamma*pair_dist)\n",
    "    return k.dot(alphas/lambdas)\n",
    "x_reproj=project_x(x_new,X,gamma=15,alphas=alphas,lambdas=lambdas)\n",
    "x_reproj"
   ]
  },
  {
   "cell_type": "code",
   "execution_count": 51,
   "id": "e9a2893e",
   "metadata": {},
   "outputs": [
    {
     "data": {
      "image/png": "[encoded data removed]",
      "text/plain": [
       "<Figure size 432x288 with 1 Axes>"
      ]
     },
     "metadata": {
      "needs_background": "light"
     },
     "output_type": "display_data"
    }
   ],
   "source": [
    "plt.scatter(alphas[y == 0, 0], np.zeros((50)),\n",
    "            color='red', marker='^', alpha=0.5)\n",
    "plt.scatter(alphas[y == 1, 0], np.zeros((50)),\n",
    "            color='blue', marker='o', alpha=0.5)\n",
    "plt.scatter(x_proj, 0, color='black',\n",
    "            label='Original projection of point X[25]', marker='^', s=100)\n",
    "plt.scatter(x_reproj, 0, color='green',\n",
    "            label='Remapped point X[25]', marker='x', s=500)\n",
    "plt.yticks([], [])\n",
    "plt.legend(scatterpoints=1)\n",
    "\n",
    "plt.tight_layout()\n",
    "# plt.savefig('images/05_18.png', dpi=300)\n",
    "plt.show()"
   ]
  },
  {
   "cell_type": "markdown",
   "id": "6f958ff4",
   "metadata": {},
   "source": [
    "### 사이킷런 커널 pca"
   ]
  },
  {
   "cell_type": "code",
   "execution_count": 53,
   "id": "4bd18f28",
   "metadata": {},
   "outputs": [
    {
     "data": {
      "image/png": "[encoded data removed]",
      "text/plain": [
       "<Figure size 432x288 with 1 Axes>"
      ]
     },
     "metadata": {
      "needs_background": "light"
     },
     "output_type": "display_data"
    }
   ],
   "source": [
    "from sklearn.decomposition import KernelPCA\n",
    "\n",
    "X, y = make_moons(n_samples=100, random_state=123)\n",
    "scikit_kpca = KernelPCA(n_components=2, kernel='rbf', gamma=15)\n",
    "X_skernpca = scikit_kpca.fit_transform(X)\n",
    "plt.scatter(X_skernpca[y == 0, 0], X_skernpca[y == 0, 1],\n",
    "            color='red', marker='^', alpha=0.5)\n",
    "plt.scatter(X_skernpca[y == 1, 0], X_skernpca[y == 1, 1],\n",
    "            color='blue', marker='o', alpha=0.5)\n",
    "\n",
    "plt.xlabel('PC1')\n",
    "plt.ylabel('PC2')\n",
    "plt.tight_layout()\n",
    "# plt.savefig('images/05_19.png', dpi=300)\n",
    "plt.show()"
   ]
  },
  {
   "cell_type": "markdown",
   "id": "095ccf7f",
   "metadata": {},
   "source": [
    "(Locally Linear Embedding)은 이웃한 샘플 간의 거리를 유지하는 저차원 투영을 찾습니다. 지역 선형 임베딩을 구현한 사이킷런의 LocallyLinearEmbedding 클래스를 앞에서 적재한 반달 모양 데이터셋에 적용해 보겠습니다. "
   ]
  },
  {
   "cell_type": "code",
   "execution_count": 54,
   "id": "619aadc1",
   "metadata": {},
   "outputs": [],
   "source": [
    "from sklearn.manifold import LocallyLinearEmbedding\n",
    "lle=LocallyLinearEmbedding(n_components=2,random_state=1)\n",
    "X_lle=lle.fit_transform(X)"
   ]
  },
  {
   "cell_type": "markdown",
   "id": "861b5c3b",
   "metadata": {},
   "source": [
    "t-sne는 데이터 포인트간의 유사도를 결합확률로 변환,저차원과 고차원의 확률사이에는 쿨백-라이블러발산 최소화합니다"
   ]
  },
  {
   "cell_type": "code",
   "execution_count": 56,
   "id": "b5aacaa4",
   "metadata": {},
   "outputs": [
    {
     "name": "stderr",
     "output_type": "stream",
     "text": [
      "C:\\ProgramData\\Anaconda3\\lib\\site-packages\\sklearn\\manifold\\_t_sne.py:780: FutureWarning: The default initialization in TSNE will change from 'random' to 'pca' in 1.2.\n",
      "  warnings.warn(\n",
      "C:\\ProgramData\\Anaconda3\\lib\\site-packages\\sklearn\\manifold\\_t_sne.py:790: FutureWarning: The default learning rate in TSNE will change from 200.0 to 'auto' in 1.2.\n",
      "  warnings.warn(\n"
     ]
    }
   ],
   "source": [
    "from sklearn.manifold import TSNE\n",
    "tsne=TSNE(n_components=2,random_state=1)\n",
    "x_tsne=tsne.fit_transform(X)"
   ]
  }
 ],
 "metadata": {
  "kernelspec": {
   "display_name": "Python 3 (ipykernel)",
   "language": "python",
   "name": "python3"
  },
  "language_info": {
   "codemirror_mode": {
    "name": "ipython",
    "version": 3
   },
   "file_extension": ".py",
   "mimetype": "text/x-python",
   "name": "python",
   "nbconvert_exporter": "python",
   "pygments_lexer": "ipython3",
   "version": "3.8.12"
  },
  "toc": {
   "base_numbering": 1,
   "nav_menu": {},
   "number_sections": true,
   "sideBar": true,
   "skip_h1_title": false,
   "title_cell": "Table of Contents",
   "title_sidebar": "Contents",
   "toc_cell": false,
   "toc_position": {},
   "toc_section_display": true,
   "toc_window_display": true
  },
  "varInspector": {
   "cols": {
    "lenName": 16,
    "lenType": 16,
    "lenVar": 40
   },
   "kernels_config": {
    "python": {
     "delete_cmd_postfix": "",
     "delete_cmd_prefix": "del ",
     "library": "var_list.py",
     "varRefreshCmd": "print(var_dic_list())"
    },
    "r": {
     "delete_cmd_postfix": ") ",
     "delete_cmd_prefix": "rm(",
     "library": "var_list.r",
     "varRefreshCmd": "cat(var_dic_list()) "
    }
   },
   "types_to_exclude": [
    "module",
    "function",
    "builtin_function_or_method",
    "instance",
    "_Feature"
   ],
   "window_display": false
  }
 },
 "nbformat": 4,
 "nbformat_minor": 5
}
